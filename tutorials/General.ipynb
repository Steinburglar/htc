{
 "cells": [
  {
   "cell_type": "markdown",
   "id": "1fb578b1-473f-42aa-8e7f-d6baf1291d57",
   "metadata": {},
   "source": [
    "# General\n",
    "This tutorial guides you through the general concepts of the htc framework and how it can be used to work with HSI images."
   ]
  },
  {
   "cell_type": "code",
   "execution_count": 2,
   "id": "ece75385-2876-4936-b2dd-c00847cd6885",
   "metadata": {},
   "outputs": [],
   "source": [
    "%load_ext autoreload\n",
    "%autoreload 2\n",
    "\n",
    "import numpy as np\n",
    "import plotly.express as px\n",
    "\n",
    "from htc import Config, DataPath, DatasetImage, LabelMapping, settings, settings_atlas, tivita_wavelengths"
   ]
  },
  {
   "cell_type": "markdown",
   "id": "597c1c87-7d58-461e-b130-9dade2fc3e9d",
   "metadata": {},
   "source": [
    "## The `DataPath` class\n",
    "The general interface for operating with the HSI images is the `DataPath` class. You can use it to read data cubes, annotations or meta data. But first, you need a `DataPath` object and there are three ways to create it:"
   ]
  },
  {
   "cell_type": "code",
   "execution_count": 3,
   "id": "82b2178f-c888-4cf5-a657-2d589ed81675",
   "metadata": {},
   "outputs": [
    {
     "data": {
      "text/plain": [
       "/home/lucas/dkfz/htc/tests/test_28may/HeiPorSPECTRAL_example/data/subjects/P086/2021_04_15_09_22_02"
      ]
     },
     "execution_count": 3,
     "metadata": {},
     "output_type": "execute_result"
    }
   ],
   "source": [
    "# 1. Via the unique name of an image\n",
    "path = DataPath.from_image_name(\"P086#2021_04_15_09_22_02\")\n",
    "path"
   ]
  },
  {
   "cell_type": "code",
   "execution_count": 4,
   "metadata": {},
   "outputs": [
    {
     "data": {
      "text/plain": [
       "[/home/lucas/dkfz/htc/tests/test_31may/Cat_atlas_kidney_nativ/data/P0010_2023_10_12_Experiment1/2023_10_12_10_23_33,\n",
       " /home/lucas/dkfz/htc/tests/test_31may/Cat_atlas_kidney_nativ/data/P0010_2023_10_12_Experiment1/2023_10_12_10_24_54,\n",
       " /home/lucas/dkfz/htc/tests/test_31may/Cat_atlas_kidney_nativ/data/P0010_2023_10_12_Experiment1/2023_10_12_10_59_16,\n",
       " /home/lucas/dkfz/htc/tests/test_31may/Cat_atlas_kidney_nativ/data/P0014_2023_10_17_Experiment2/2023_10_17_10_29_55,\n",
       " /home/lucas/dkfz/htc/tests/test_31may/Cat_atlas_kidney_nativ/data/P0014_2023_10_17_Experiment2/2023_10_17_10_30_18,\n",
       " /home/lucas/dkfz/htc/tests/test_31may/Cat_atlas_kidney_nativ/data/P0014_2023_10_17_Experiment2/2023_10_17_10_31_03,\n",
       " /home/lucas/dkfz/htc/tests/test_31may/Cat_atlas_kidney_nativ/data/P0019_2023_10_23_Experiment1/2023_10_23_13_53_22,\n",
       " /home/lucas/dkfz/htc/tests/test_31may/Cat_atlas_kidney_nativ/data/P0019_2023_10_23_Experiment1/2023_10_23_13_54_01,\n",
       " /home/lucas/dkfz/htc/tests/test_31may/Cat_atlas_kidney_nativ/data/P0019_2023_10_23_Experiment1/2023_10_23_13_54_27,\n",
       " /home/lucas/dkfz/htc/tests/test_31may/Cat_atlas_kidney_nativ/data/P0029_2023_11_03_Experiment1/2023_11_03_15_48_14,\n",
       " /home/lucas/dkfz/htc/tests/test_31may/Cat_atlas_kidney_nativ/data/P0029_2023_11_03_Experiment1/2023_11_03_15_48_41,\n",
       " /home/lucas/dkfz/htc/tests/test_31may/Cat_atlas_kidney_nativ/data/P0029_2023_11_03_Experiment1/2023_11_03_15_49_06,\n",
       " /home/lucas/dkfz/htc/tests/test_31may/Cat_atlas_kidney_nativ/data/P0031_2023_11_08_Experiment1/2023_11_08_15_33_16,\n",
       " /home/lucas/dkfz/htc/tests/test_31may/Cat_atlas_kidney_nativ/data/P0031_2023_11_08_Experiment1/2023_11_08_15_33_40,\n",
       " /home/lucas/dkfz/htc/tests/test_31may/Cat_atlas_kidney_nativ/data/P0031_2023_11_08_Experiment1/2023_11_08_15_34_06,\n",
       " /home/lucas/dkfz/htc/tests/test_31may/Cat_atlas_kidney_nativ/data/P0031_2023_11_08_Experiment1/2023_11_08_15_35_20,\n",
       " /home/lucas/dkfz/htc/tests/test_31may/Cat_atlas_kidney_nativ/data/P0031_2023_11_08_Experiment1/2023_11_08_15_35_57,\n",
       " /home/lucas/dkfz/htc/tests/test_31may/Cat_atlas_kidney_nativ/data/P0031_2023_11_08_Experiment1/2023_11_08_15_36_22,\n",
       " /home/lucas/dkfz/htc/tests/test_31may/Cat_atlas_kidney_nativ/data/P0033_2023_11_14_Experiment1/2023_11_14_12_07_58,\n",
       " /home/lucas/dkfz/htc/tests/test_31may/Cat_atlas_kidney_nativ/data/P0033_2023_11_14_Experiment1/2023_11_14_12_08_57,\n",
       " /home/lucas/dkfz/htc/tests/test_31may/Cat_atlas_kidney_nativ/data/P0033_2023_11_14_Experiment1/2023_11_14_12_09_24,\n",
       " /home/lucas/dkfz/htc/tests/test_31may/Cat_atlas_kidney_nativ/data/P0033_2023_11_14_Experiment1/2023_11_14_12_29_09,\n",
       " /home/lucas/dkfz/htc/tests/test_31may/Cat_atlas_kidney_nativ/data/P0033_2023_11_14_Experiment1/2023_11_14_12_29_37,\n",
       " /home/lucas/dkfz/htc/tests/test_31may/Cat_atlas_kidney_nativ/data/P0033_2023_11_14_Experiment1/2023_11_14_12_30_04,\n",
       " /home/lucas/dkfz/htc/tests/test_31may/Cat_atlas_kidney_nativ/data/P0036_2023_11_15_Experiment1/2023_11_15_16_49_02,\n",
       " /home/lucas/dkfz/htc/tests/test_31may/Cat_atlas_kidney_nativ/data/P0036_2023_11_15_Experiment1/2023_11_15_16_49_42,\n",
       " /home/lucas/dkfz/htc/tests/test_31may/Cat_atlas_kidney_nativ/data/P0036_2023_11_15_Experiment1/2023_11_15_16_50_06,\n",
       " /home/lucas/dkfz/htc/tests/test_31may/Cat_atlas_kidney_nativ/data/P0039_2023_11_17_Experiment2/2023_11_17_13_32_39,\n",
       " /home/lucas/dkfz/htc/tests/test_31may/Cat_atlas_kidney_nativ/data/P0039_2023_11_17_Experiment2/2023_11_17_13_33_18,\n",
       " /home/lucas/dkfz/htc/tests/test_31may/Cat_atlas_kidney_nativ/data/P0039_2023_11_17_Experiment2/2023_11_17_13_33_44,\n",
       " /home/lucas/dkfz/htc/tests/test_31may/Cat_atlas_kidney_nativ/data/P0040_2023_11_21_Experiment1/2023_11_21_11_10_20,\n",
       " /home/lucas/dkfz/htc/tests/test_31may/Cat_atlas_kidney_nativ/data/P0040_2023_11_21_Experiment1/2023_11_21_11_10_49,\n",
       " /home/lucas/dkfz/htc/tests/test_31may/Cat_atlas_kidney_nativ/data/P0040_2023_11_21_Experiment1/2023_11_21_11_11_16,\n",
       " /home/lucas/dkfz/htc/tests/test_31may/Cat_atlas_kidney_nativ/data/P0041_2023_11_21_Experiment2/2023_11_21_16_17_45,\n",
       " /home/lucas/dkfz/htc/tests/test_31may/Cat_atlas_kidney_nativ/data/P0041_2023_11_21_Experiment2/2023_11_21_16_18_09,\n",
       " /home/lucas/dkfz/htc/tests/test_31may/Cat_atlas_kidney_nativ/data/P0041_2023_11_21_Experiment2/2023_11_21_16_18_35,\n",
       " /home/lucas/dkfz/htc/tests/test_31may/Cat_atlas_kidney_nativ/data/P0043_2023_11_28_Experiment1/2023_11_28_10_56_47,\n",
       " /home/lucas/dkfz/htc/tests/test_31may/Cat_atlas_kidney_nativ/data/P0043_2023_11_28_Experiment1/2023_11_28_10_57_14,\n",
       " /home/lucas/dkfz/htc/tests/test_31may/Cat_atlas_kidney_nativ/data/P0043_2023_11_28_Experiment1/2023_11_28_10_57_45,\n",
       " /home/lucas/dkfz/htc/tests/test_31may/Cat_atlas_kidney_nativ/data/P0045_2023_11_30_Experiment1/2023_11_30_11_36_12,\n",
       " /home/lucas/dkfz/htc/tests/test_31may/Cat_atlas_kidney_nativ/data/P0045_2023_11_30_Experiment1/2023_11_30_11_36_50,\n",
       " /home/lucas/dkfz/htc/tests/test_31may/Cat_atlas_kidney_nativ/data/P0045_2023_11_30_Experiment1/2023_11_30_11_37_29,\n",
       " /home/lucas/dkfz/htc/tests/test_31may/Cat_atlas_kidney_nativ/data/P0047_2023_11_30_Experiment3/2023_11_30_15_59_47,\n",
       " /home/lucas/dkfz/htc/tests/test_31may/Cat_atlas_kidney_nativ/data/P0047_2023_11_30_Experiment3/2023_11_30_16_00_13,\n",
       " /home/lucas/dkfz/htc/tests/test_31may/Cat_atlas_kidney_nativ/data/P0047_2023_11_30_Experiment3/2023_11_30_16_00_40,\n",
       " /home/lucas/dkfz/htc/tests/test_31may/Cat_atlas_kidney_nativ/data/P0050_2023_12_01_Experiment3/2023_12_01_14_25_47,\n",
       " /home/lucas/dkfz/htc/tests/test_31may/Cat_atlas_kidney_nativ/data/P0050_2023_12_01_Experiment3/2023_12_01_14_26_19,\n",
       " /home/lucas/dkfz/htc/tests/test_31may/Cat_atlas_kidney_nativ/data/P0050_2023_12_01_Experiment3/2023_12_01_14_26_54,\n",
       " /home/lucas/dkfz/htc/tests/test_31may/Cat_atlas_kidney_nativ/data/P0053_2023_12_07_Experiment2/2023_12_07_16_45_21,\n",
       " /home/lucas/dkfz/htc/tests/test_31may/Cat_atlas_kidney_nativ/data/P0053_2023_12_07_Experiment2/2023_12_07_16_45_50,\n",
       " /home/lucas/dkfz/htc/tests/test_31may/Cat_atlas_kidney_nativ/data/P0053_2023_12_07_Experiment2/2023_12_07_16_46_18,\n",
       " /home/lucas/dkfz/htc/tests/test_31may/Cat_atlas_kidney_nativ/data/P0061_2023_12_20_Experiment1/2023_12_20_11_36_15,\n",
       " /home/lucas/dkfz/htc/tests/test_31may/Cat_atlas_kidney_nativ/data/P0061_2023_12_20_Experiment1/2023_12_20_11_36_44,\n",
       " /home/lucas/dkfz/htc/tests/test_31may/Cat_atlas_kidney_nativ/data/P0061_2023_12_20_Experiment1/2023_12_20_11_37_12]"
      ]
     },
     "execution_count": 4,
     "metadata": {},
     "output_type": "execute_result"
    }
   ],
   "source": [
    "list(DataPath.iterate(settings.data_dirs.test_dataset31may))"
   ]
  },
  {
   "cell_type": "code",
   "execution_count": 35,
   "id": "54d099b6-53a6-43fe-b39f-a45290cdaee4",
   "metadata": {},
   "outputs": [
    {
     "data": {
      "text/plain": [
       "['2023_10_12_10_23_33',\n",
       " '2023_10_12_10_24_54',\n",
       " '2023_10_12_10_59_16',\n",
       " '2023_10_17_10_29_55',\n",
       " '2023_10_17_10_30_18',\n",
       " '2023_10_17_10_31_03',\n",
       " '2023_10_23_13_53_22',\n",
       " '2023_10_23_13_54_01',\n",
       " '2023_10_23_13_54_27',\n",
       " '2023_11_03_15_48_14']"
      ]
     },
     "execution_count": 35,
     "metadata": {},
     "output_type": "execute_result"
    }
   ],
   "source": [
    "# 2. Iterate over the complete dataset\n",
    "paths = list(DataPath.iterate(settings.data_dirs.test_dataset31may))\n",
    "[p.timestamp for p in paths[:10]]"
   ]
  },
  {
   "cell_type": "code",
   "execution_count": 6,
   "id": "927a61b9-d24a-4fb5-8d13-f93b2275044c",
   "metadata": {},
   "outputs": [
    {
     "data": {
      "text/plain": [
       "/home/lucas/dkfz/htc/tests/test_28may/HeiPorSPECTRAL_example/data/subjects/P086/2021_04_15_09_22_02"
      ]
     },
     "execution_count": 6,
     "metadata": {},
     "output_type": "execute_result"
    }
   ],
   "source": [
    "# 3. Directly based on its path\n",
    "# This is only for images from unstructured datasets (HeiPorSPECTRAL is a structured dataset)\n",
    "path = DataPath(settings.data_dirs.test_dataset28may/ \"subjects/P086/2021_04_15_09_22_02\")\n",
    "path"
   ]
  },
  {
   "cell_type": "code",
   "execution_count": 7,
   "id": "19937ca7-8e7d-4f13-96f3-355fd414feda",
   "metadata": {},
   "outputs": [
    {
     "data": {
      "text/plain": [
       "'0202-00118#2021_04_15_09_22_02'"
      ]
     },
     "execution_count": 7,
     "metadata": {},
     "output_type": "execute_result"
    }
   ],
   "source": [
    "# Using the direct path is not the same as from_image()\n",
    "# The direct path is more general and works for every Tivita image but at the same time knows less about the structure of the dataset\n",
    "# For example, it knows nothing about the subject name which also results in a different image name\n",
    "path.image_name()"
   ]
  },
  {
   "cell_type": "code",
   "execution_count": 8,
   "id": "dab77cb8-e999-4d39-8ea5-127ce6cfb080",
   "metadata": {},
   "outputs": [
    {
     "name": "stdout",
     "output_type": "stream",
     "text": [
      "subject_name =  P086\n",
      "image_name =  P086#2021_04_15_09_22_02\n"
     ]
    }
   ],
   "source": [
    "# This data path, however, does know the subject name which is also reflected in the image name\n",
    "# Note: there may be more than one image name for the same data path but it is always unique\n",
    "path = DataPath.from_image_name(\"P086#2021_04_15_09_22_02\")\n",
    "print(\"subject_name = \", path.subject_name)\n",
    "print(\"image_name = \", path.image_name())"
   ]
  },
  {
   "cell_type": "markdown",
   "id": "7f3d2c92-5c69-43f0-be2c-6395dfe980fb",
   "metadata": {},
   "source": [
    "Once you have a `DataPath` object, you can do many cool things with it. Feel free to explore the methods yourself or use your favorite IDE to list them :-)"
   ]
  },
  {
   "cell_type": "code",
   "execution_count": 9,
   "id": "a1a68165-44a9-48be-b97b-ce46d58c7172",
   "metadata": {},
   "outputs": [
    {
     "data": {
      "text/plain": [
       "(480, 640, 100)"
      ]
     },
     "execution_count": 9,
     "metadata": {},
     "output_type": "execute_result"
    }
   ],
   "source": [
    "# Read the data cube\n",
    "path.read_cube().shape"
   ]
  },
  {
   "cell_type": "code",
   "execution_count": 10,
   "id": "54ec9632-1d22-4ae0-8549-c7480c0c8270",
   "metadata": {},
   "outputs": [
    {
     "data": {
      "text/plain": [
       "0.9999999"
      ]
     },
     "execution_count": 10,
     "metadata": {},
     "output_type": "execute_result"
    }
   ],
   "source": [
    "# Handy normalization option included\n",
    "# Note: It is recommended to always work with normalized data except when you have a very good reson not to do so.\n",
    "#       This will reduce e.g. multiplicative changes which can arise from different lightning conditions.\n",
    "np.sum(path.read_cube(normalization=1)[0, 0, :])"
   ]
  },
  {
   "cell_type": "code",
   "execution_count": 11,
   "id": "a8614c6a-7289-4ab7-a688-25c044f02f4d",
   "metadata": {},
   "outputs": [
    {
     "data": {
      "text/plain": [
       "(480, 640, 3)"
      ]
     },
     "execution_count": 11,
     "metadata": {},
     "output_type": "execute_result"
    }
   ],
   "source": [
    "# Read the RGB image\n",
    "path.read_rgb_reconstructed().shape"
   ]
  },
  {
   "cell_type": "code",
   "execution_count": 12,
   "id": "811949e2-9f21-4c0c-ab33-447f69ef4334",
   "metadata": {},
   "outputs": [
    {
     "data": {
      "text/plain": [
       "(480, 640)"
      ]
     },
     "execution_count": 12,
     "metadata": {},
     "output_type": "execute_result"
    }
   ],
   "source": [
    "# Compute parameter images\n",
    "path.compute_sto2().shape"
   ]
  },
  {
   "cell_type": "code",
   "execution_count": 13,
   "id": "25172fe2-d3e2-4aee-899d-5a3b8e5e1489",
   "metadata": {},
   "outputs": [
    {
     "data": {
      "text/plain": [
       "{'polygon#annotator1': array([[255, 255, 255, ..., 255, 255, 255],\n",
       "        [255, 255, 255, ..., 255, 255, 255],\n",
       "        [255, 255, 255, ..., 255, 255, 255],\n",
       "        ...,\n",
       "        [255, 255, 255, ..., 255, 255, 255],\n",
       "        [255, 255, 255, ..., 255, 255, 255],\n",
       "        [255, 255, 255, ..., 255, 255, 255]], dtype=uint8),\n",
       " 'polygon#annotator2': array([[255, 255, 255, ..., 255, 255, 255],\n",
       "        [255, 255, 255, ..., 255, 255, 255],\n",
       "        [255, 255, 255, ..., 255, 255, 255],\n",
       "        ...,\n",
       "        [255, 255, 255, ..., 255, 255, 255],\n",
       "        [255, 255, 255, ..., 255, 255, 255],\n",
       "        [255, 255, 255, ..., 255, 255, 255]], dtype=uint8),\n",
       " 'polygon#annotator3': array([[255, 255, 255, ..., 255, 255, 255],\n",
       "        [255, 255, 255, ..., 255, 255, 255],\n",
       "        [255, 255, 255, ..., 255, 255, 255],\n",
       "        ...,\n",
       "        [255, 255, 255, ..., 255, 255, 255],\n",
       "        [255, 255, 255, ..., 255, 255, 255],\n",
       "        [255, 255, 255, ..., 255, 255, 255]], dtype=uint8)}"
      ]
     },
     "execution_count": 13,
     "metadata": {},
     "output_type": "execute_result"
    }
   ],
   "source": [
    "# Read the corresponding segmentation masks\n",
    "# annotation_name can also be set to load only the annotations from one annotator (e.g. polygon#annotator1)\n",
    "path.read_segmentation(annotation_name=\"all\")"
   ]
  },
  {
   "cell_type": "code",
   "execution_count": 14,
   "id": "4ea4d0da-b064-448d-a680-df824ecdf802",
   "metadata": {},
   "outputs": [
    {
     "name": "stdout",
     "output_type": "stream",
     "text": [
      "timestamp =  2021_04_15_09_22_02\n",
      "subject_name =  P086\n",
      "image_name =  P086#2021_04_15_09_22_02\n"
     ]
    }
   ],
   "source": [
    "# Access image information\n",
    "print(\"timestamp = \", path.timestamp)\n",
    "print(\"subject_name = \", path.subject_name)\n",
    "print(\"image_name = \", path.image_name())"
   ]
  },
  {
   "cell_type": "code",
   "execution_count": 15,
   "id": "716b8130-822c-4c2f-a3f6-831c439aefeb",
   "metadata": {},
   "outputs": [
    {
     "data": {
      "text/plain": [
       "'0202-00118'"
      ]
     },
     "execution_count": 15,
     "metadata": {},
     "output_type": "execute_result"
    }
   ],
   "source": [
    "# Access meta information\n",
    "# This contains information from the *_meta.log file and you can access the other attributes in a similar way\n",
    "path.meta(\"Camera_CamID\")"
   ]
  },
  {
   "cell_type": "code",
   "execution_count": 16,
   "id": "5f74dcb8-1e52-4a80-9ee4-5aeb4a12625b",
   "metadata": {},
   "outputs": [
    {
     "data": {
      "text/plain": [
       "{'subject_name': 'P086',\n",
       " 'timestamp': '2021_04_15_09_22_02',\n",
       " 'Camera_CamID': '0202-00118',\n",
       " 'Camera_Exposure': 75.0,\n",
       " 'Camera_analoger Gain': 4.0,\n",
       " 'Camera_digitaler Gain': 32.0,\n",
       " 'Camera_Speed': 950.0,\n",
       " 'SW_Name': 'TIVITA® Suite',\n",
       " 'SW_Version': '1.6.0.1',\n",
       " 'Fremdlichterkennung_Fremdlicht erkannt?': False,\n",
       " 'Fremdlichterkennung_PixelmitFremdlicht': 0.0,\n",
       " 'Fremdlichterkennung_Breite LED Rot': 50.0,\n",
       " 'Fremdlichterkennung_Breite LED Gruen': 50.0,\n",
       " 'Fremdlichterkennung_Grenzwert Pixelanzahl': 100.0,\n",
       " 'Fremdlichterkennung_Intensity Grenzwert': 7.0,\n",
       " 'Aufnahme_Aufnahmemodus': 'Reflektanz',\n",
       " 'camera_name': '0202-00118_correct-1',\n",
       " 'path': 'subjects/P086/2021_04_15_09_22_02',\n",
       " 'annotation_name': array(['polygon#annotator1', 'polygon#annotator2', 'polygon#annotator3'],\n",
       "       dtype=object),\n",
       " 'dsettings': Settings for the dataset data\n",
       " The following settings are available:\n",
       " ['dataset_name', 'data_path_class', 'shape', 'shape_names', 'label_mapping', 'last_valid_label_index', 'label_ordering', 'annotator_mapping', 'subject_mapping', 'spatial_shape'],\n",
       " 'dataset_env_name': 'PATH_Tivita_HeiPorSPECTRAL_example',\n",
       " 'data_dir': PosixPath('/home/lucas/dkfz/htc/tests/test_28may/HeiPorSPECTRAL_example/data'),\n",
       " 'intermediates_dir': PosixPath('/home/lucas/dkfz/htc/tests/test_28may/HeiPorSPECTRAL_example/intermediates'),\n",
       " 'label_meta': {'spleen': {'situs': 1, 'angle': 0, 'repetition': 1}}}"
      ]
     },
     "execution_count": 16,
     "metadata": {},
     "output_type": "execute_result"
    }
   ],
   "source": [
    "# Omit the key to get all available meta information\n",
    "path.meta()"
   ]
  },
  {
   "cell_type": "code",
   "execution_count": 17,
   "id": "ccf62f43-248d-4ccc-99a3-7e53d20cb36e",
   "metadata": {},
   "outputs": [
    {
     "data": {
      "text/plain": [
       "1"
      ]
     },
     "execution_count": 17,
     "metadata": {},
     "output_type": "execute_result"
    }
   ],
   "source": [
    "# Nested meta information can be accessed in a similar way as the config files (see below)\n",
    "path.meta(\"label_meta/spleen/situs\")"
   ]
  },
  {
   "cell_type": "code",
   "execution_count": 18,
   "id": "617f9846-9d4b-443f-9f0e-41bd48872bfa",
   "metadata": {},
   "outputs": [
    {
     "data": {
      "text/plain": [
       "(480, 640, 100)"
      ]
     },
     "execution_count": 18,
     "metadata": {},
     "output_type": "execute_result"
    }
   ],
   "source": [
    "# Each path also holds a reference to the global dataset settings\n",
    "path.dataset_settings[\"shape\"]"
   ]
  },
  {
   "cell_type": "markdown",
   "id": "0e2f07e1-9cd7-49ce-b2c4-e440d7809791",
   "metadata": {},
   "source": [
    "## Global `settings`\n",
    "You may already noticed the usage of the `settings` object above. This can be used to access data directories, logging and defines other global attributes."
   ]
  },
  {
   "cell_type": "code",
   "execution_count": 19,
   "id": "fbfd5304-f5e1-47d5-9a2a-34c782acf08c",
   "metadata": {},
   "outputs": [
    {
     "data": {
      "text/plain": [
       "<htc.utils.Datasets.DatasetAccessor at 0x7f734eae6290>"
      ]
     },
     "execution_count": 19,
     "metadata": {},
     "output_type": "execute_result"
    }
   ],
   "source": [
    "# Direct access to the registered datasets (depending on the set environment variables)\n",
    "settings.data_dirs"
   ]
  },
  {
   "cell_type": "code",
   "execution_count": 20,
   "id": "033a2c6d-d4f7-4b28-bfa7-c3d66bcd5c6b",
   "metadata": {},
   "outputs": [
    {
     "data": {
      "text/plain": [
       "Class: MultiPath\n",
       "Root location: /home/lucas/dkfz/htc/tests/test_28may/HeiPorSPECTRAL_example/intermediates (exists=True)\n",
       "Best location: /home/lucas/dkfz/htc/tests/test_28may/HeiPorSPECTRAL_example/intermediates (exists=True)\n",
       "All locations:\n",
       "/home/lucas/dkfz/htc/tests/test_28may/HeiPorSPECTRAL_example/intermediates (exists=True)"
      ]
     },
     "execution_count": 20,
     "metadata": {},
     "output_type": "execute_result"
    }
   ],
   "source": [
    "# Directory with the preprocessed data\n",
    "# Note In case you have more than one dataset, this path can be used to access files from all datasets (with unique names)\n",
    "settings.intermediates_dir_all"
   ]
  },
  {
   "cell_type": "code",
   "execution_count": 21,
   "id": "dbae10da-3b0d-40d8-b930-6c77d1c0256b",
   "metadata": {},
   "outputs": [
    {
     "data": {
      "text/plain": [
       "Class: MultiPath\n",
       "Root location: /home/lucas/dkfz/htc/tests/test_28may/test_results28may (exists=True)\n",
       "Best location (considering needle /home/lucas/dkfz/htc/tests/test_28may/test_results28may): /home/lucas/dkfz/htc/tests/test_28may/test_results28may (exists=True)\n",
       "All locations:\n",
       "/home/lucas/dkfz/htc/tests/test_28may/test_results28may (exists=True)\n",
       "/home/lucas/dkfz/htc/tests/test_28may/test_results28may:shortcut=test_results28may (exists=False)\n",
       "/home/lucas/dkfz/htc/tutorials/:~/dkfz/htc/tests/test_31may/test_results31may (exists=False)"
      ]
     },
     "execution_count": 21,
     "metadata": {},
     "output_type": "execute_result"
    }
   ],
   "source": [
    "# Directory for the results\n",
    "settings.results_dir"
   ]
  },
  {
   "cell_type": "code",
   "execution_count": 22,
   "id": "04115c1f-bd61-42ec-831d-26fb47a1503c",
   "metadata": {},
   "outputs": [
    {
     "data": {
      "text/html": [
       "<pre style=\"white-space:pre;overflow-x:auto;line-height:normal;font-family:Menlo,'DejaVu Sans Mono',consolas,'Courier New',monospace\"><span style=\"font-weight: bold\">[</span><span style=\"color: #008700; text-decoration-color: #008700\">INFO</span><span style=\"font-weight: bold\">][</span><span style=\"font-style: italic\">htc</span><span style=\"font-weight: bold\">]</span> my log message                                                                                <span style=\"color: #7f7f7f; text-decoration-color: #7f7f7f\">134398714.py:2</span>\n",
       "</pre>\n"
      ],
      "text/plain": [
       "\u001b[1m[\u001b[0m\u001b[38;5;28mINFO\u001b[0m\u001b[1m]\u001b[0m\u001b[1m[\u001b[0m\u001b[3mhtc\u001b[0m\u001b[1m]\u001b[0m my log message                                                                                \u001b[2m134398714.py:2\u001b[0m\n"
      ]
     },
     "metadata": {},
     "output_type": "display_data"
    }
   ],
   "source": [
    "# Logging\n",
    "settings.log.info(\"my log message\")"
   ]
  },
  {
   "cell_type": "markdown",
   "id": "fcc8078f-11fc-44ec-a751-89d49fd031f8",
   "metadata": {},
   "source": [
    "## Advanced data loading\n",
    "The `DataPath` reads the original data cubes which is fine for simple tasks but in more advanced settings (e.g. training a neural network), you may want a more flexible solution which also make use of the preprocessed L1 normalized files in the intermediates directory. For this, dataset classes can be used and configured."
   ]
  },
  {
   "cell_type": "code",
   "execution_count": 23,
   "id": "b9a9eebd-8028-4430-a959-452a72fb8849",
   "metadata": {},
   "outputs": [
    {
     "name": "stdout",
     "output_type": "stream",
     "text": [
      "dict_keys(['labels', 'valid_pixels', 'features', 'image_name', 'image_index'])\n",
      "dict_keys(['labels', 'valid_pixels', 'features', 'image_name', 'image_index'])\n"
     ]
    }
   ],
   "source": [
    "# The config object can be used to specify the data loading (and more)\n",
    "# It is also used to specify all the training settings and every trained model also stores its used config so that you can always read it later\n",
    "# Here, we want to read L1 normalized HSI images (for label_mapping see below)\n",
    "config = Config({\n",
    "    \"input/n_channels\": 100,\n",
    "    \"input/preprocessing\": \"L1\",\n",
    "    \"input/annotation_name\": \"polygon#annotator1\",  # Only annotations from one annotator in this example\n",
    "    \"label_mapping\": settings_atlas.label_mapping,  # This changes the index values of the original segmentations\n",
    "})\n",
    "# Note: The file htc/utils/config.schema contains descriptions of common configuration options\n",
    "\n",
    "# A dataset can be used to iterate over images or select certain images\n",
    "# Here we use all the paths which we selected above\n",
    "dataset = DatasetImage(paths, train=False, config=config)\n",
    "for sample in dataset:\n",
    "    # The sample is just a dictionary with everything related to the image file, e.g. label or features\n",
    "    print(sample.keys())\n",
    "\n",
    "\n",
    "sample = dataset[0]"
   ]
  },
  {
   "cell_type": "code",
   "execution_count": 24,
   "id": "103a9e3f-9c85-475f-87f0-ab7f631daeb8",
   "metadata": {},
   "outputs": [
    {
     "data": {
      "text/plain": [
       "tensor([[100, 100, 100,  ..., 100, 100, 100],\n",
       "        [100, 100, 100,  ..., 100, 100, 100],\n",
       "        [100, 100, 100,  ..., 100, 100, 100],\n",
       "        ...,\n",
       "        [100, 100, 100,  ..., 100, 100, 100],\n",
       "        [100, 100, 100,  ..., 100, 100, 100],\n",
       "        [100, 100, 100,  ..., 100, 100, 100]])"
      ]
     },
     "execution_count": 24,
     "metadata": {},
     "output_type": "execute_result"
    }
   ],
   "source": [
    "# The sample contains the image data as torch tensors\n",
    "# (height, width)\n",
    "sample[\"labels\"]"
   ]
  },
  {
   "cell_type": "code",
   "execution_count": 25,
   "id": "da90a4bf-1d63-4af4-9455-7b408d6c74e4",
   "metadata": {},
   "outputs": [
    {
     "data": {
      "text/plain": [
       "torch.Size([480, 640, 100])"
      ]
     },
     "execution_count": 25,
     "metadata": {},
     "output_type": "execute_result"
    }
   ],
   "source": [
    "# (height, width, channels)\n",
    "# Note: the features are the L1 normalized HSI cube from the blosc compressed files in the intermediates folder\n",
    "sample[\"features\"].shape"
   ]
  },
  {
   "cell_type": "code",
   "execution_count": 26,
   "id": "71c2b8cc-c394-48fc-a858-5203779cd5b1",
   "metadata": {},
   "outputs": [
    {
     "data": {
      "text/plain": [
       "tensor([[False, False, False,  ..., False, False, False],\n",
       "        [False, False, False,  ..., False, False, False],\n",
       "        [False, False, False,  ..., False, False, False],\n",
       "        ...,\n",
       "        [False, False, False,  ..., False, False, False],\n",
       "        [False, False, False,  ..., False, False, False],\n",
       "        [False, False, False,  ..., False, False, False]])"
      ]
     },
     "execution_count": 26,
     "metadata": {},
     "output_type": "execute_result"
    }
   ],
   "source": [
    "# This mask indicates the pixels with valid annotations (not every pixel is annotated!)\n",
    "sample[\"valid_pixels\"]"
   ]
  },
  {
   "cell_type": "code",
   "execution_count": 27,
   "id": "d44c118d-f720-4d8f-9414-022a946552e5",
   "metadata": {},
   "outputs": [
    {
     "name": "stdout",
     "output_type": "stream",
     "text": [
      "19: spleen\n",
      "100: unlabeled\n"
     ]
    }
   ],
   "source": [
    "# The labels are stored as index with values corresponding to the set label mapping in the config (there is a separate mapping for each task)\n",
    "# There is a extra class to convert these indices back to names\n",
    "mapping = LabelMapping.from_config(config)\n",
    "for label_index in sample[\"labels\"].unique():\n",
    "    print(f\"{label_index.item()}: {mapping.index_to_name(label_index)}\")"
   ]
  },
  {
   "cell_type": "code",
   "execution_count": 28,
   "id": "2bbdfc90-467a-4035-b148-aa294d1f9b3e",
   "metadata": {},
   "outputs": [
    {
     "data": {
      "text/plain": [
       "20"
      ]
     },
     "execution_count": 28,
     "metadata": {},
     "output_type": "execute_result"
    }
   ],
   "source": [
    "# The label mapping class also has other usueful features like the number of classes used during training\n",
    "# Here: 20 organ classes\n",
    "len(mapping)"
   ]
  },
  {
   "cell_type": "markdown",
   "id": "0a771d8e-b2b2-4a13-92e2-d33c004a7e71",
   "metadata": {},
   "source": [
    "Really advanced data loading: if you need high efficient data loading for the GPU, then have a look at the example in [`DatasetImageStream`](../htc/models/image/DatasetImageStream.py) which implements a circular memory buffer in pinned memory to optimize loading performance."
   ]
  },
  {
   "cell_type": "markdown",
   "id": "f4808178-1b87-472c-9708-9ab683f4d152",
   "metadata": {},
   "source": [
    "# Example: calculate the median spectra for spleen"
   ]
  },
  {
   "cell_type": "code",
   "execution_count": 29,
   "id": "88d25e30-5d73-4630-98f3-c917e53e6ec5",
   "metadata": {},
   "outputs": [
    {
     "data": {
      "text/plain": [
       "torch.Size([14370, 100])"
      ]
     },
     "execution_count": 29,
     "metadata": {},
     "output_type": "execute_result"
    }
   ],
   "source": [
    "# Select all colon spectra\n",
    "colon_spectra = sample[\"features\"][sample[\"labels\"] == mapping.name_to_index(\"spleen\")]\n",
    "colon_spectra.shape"
   ]
  },
  {
   "cell_type": "code",
   "execution_count": 30,
   "id": "c1708964-ac92-4b09-ab5b-447d0eb0f359",
   "metadata": {},
   "outputs": [
    {
     "data": {
      "text/plain": [
       "torch.Size([100])"
      ]
     },
     "execution_count": 30,
     "metadata": {},
     "output_type": "execute_result"
    }
   ],
   "source": [
    "# Calculate the median on a per-channel basis\n",
    "colon_median_spectrum = colon_spectra.float().quantile(q=0.5, dim=0)\n",
    "colon_median_spectrum.shape"
   ]
  },
  {
   "cell_type": "code",
   "execution_count": 31,
   "id": "494f6c80-27b5-4946-932e-5ec8fcf22f82",
   "metadata": {},
   "outputs": [
    {
     "data": {
      "text/html": [
       "        <script type=\"text/javascript\">\n",
       "        window.PlotlyConfig = {MathJaxConfig: 'local'};\n",
       "        if (window.MathJax && window.MathJax.Hub && window.MathJax.Hub.Config) {window.MathJax.Hub.Config({SVG: {font: \"STIX-Web\"}});}\n",
       "        if (typeof require !== 'undefined') {\n",
       "        require.undef(\"plotly\");\n",
       "        requirejs.config({\n",
       "            paths: {\n",
       "                'plotly': ['https://cdn.plot.ly/plotly-2.32.0.min']\n",
       "            }\n",
       "        });\n",
       "        require(['plotly'], function(Plotly) {\n",
       "            window._Plotly = Plotly;\n",
       "        });\n",
       "        }\n",
       "        </script>\n",
       "        "
      ]
     },
     "metadata": {},
     "output_type": "display_data"
    },
    {
     "data": {
      "application/vnd.plotly.v1+json": {
       "config": {
        "plotlyServerURL": "https://plot.ly"
       },
       "data": [
        {
         "hovertemplate": "x=%{x}<br>y=%{y}<extra></extra>",
         "legendgroup": "",
         "line": {
          "color": "#636efa",
          "dash": "solid"
         },
         "marker": {
          "symbol": "circle"
         },
         "mode": "lines",
         "name": "",
         "orientation": "v",
         "showlegend": false,
         "type": "scatter",
         "x": [
          500,
          505.050505050505,
          510.1010101010101,
          515.1515151515151,
          520.2020202020202,
          525.2525252525253,
          530.3030303030303,
          535.3535353535353,
          540.4040404040404,
          545.4545454545455,
          550.5050505050505,
          555.5555555555555,
          560.6060606060606,
          565.6565656565656,
          570.7070707070707,
          575.7575757575758,
          580.8080808080808,
          585.8585858585859,
          590.9090909090909,
          595.959595959596,
          601.010101010101,
          606.060606060606,
          611.1111111111111,
          616.1616161616162,
          621.2121212121212,
          626.2626262626262,
          631.3131313131313,
          636.3636363636364,
          641.4141414141413,
          646.4646464646464,
          651.5151515151515,
          656.5656565656566,
          661.6161616161617,
          666.6666666666666,
          671.7171717171717,
          676.7676767676768,
          681.8181818181818,
          686.8686868686868,
          691.9191919191919,
          696.969696969697,
          702.0202020202021,
          707.070707070707,
          712.1212121212121,
          717.1717171717171,
          722.2222222222222,
          727.2727272727273,
          732.3232323232323,
          737.3737373737374,
          742.4242424242424,
          747.4747474747475,
          752.5252525252525,
          757.5757575757575,
          762.6262626262626,
          767.6767676767677,
          772.7272727272727,
          777.7777777777778,
          782.8282828282828,
          787.8787878787879,
          792.9292929292928,
          797.9797979797979,
          803.030303030303,
          808.0808080808081,
          813.1313131313132,
          818.1818181818182,
          823.2323232323232,
          828.2828282828282,
          833.3333333333333,
          838.3838383838383,
          843.4343434343434,
          848.4848484848485,
          853.5353535353536,
          858.5858585858585,
          863.6363636363636,
          868.6868686868686,
          873.7373737373737,
          878.7878787878788,
          883.8383838383838,
          888.8888888888889,
          893.939393939394,
          898.989898989899,
          904.040404040404,
          909.090909090909,
          914.1414141414141,
          919.1919191919192,
          924.2424242424242,
          929.2929292929293,
          934.3434343434343,
          939.3939393939394,
          944.4444444444443,
          949.4949494949494,
          954.5454545454545,
          959.5959595959596,
          964.6464646464647,
          969.6969696969697,
          974.7474747474747,
          979.7979797979798,
          984.8484848484848,
          989.8989898989898,
          994.9494949494949,
          1000
         ],
         "xaxis": "x",
         "y": [
          0.003749847412109375,
          0.0035219192504882812,
          0.003276824951171875,
          0.0029544830322265625,
          0.0028667449951171875,
          0.002742767333984375,
          0.002597808837890625,
          0.0025539398193359375,
          0.00251007080078125,
          0.002475738525390625,
          0.0024967193603515625,
          0.002471923828125,
          0.0024394989013671875,
          0.0023899078369140625,
          0.002288818359375,
          0.002254486083984375,
          0.0022602081298828125,
          0.0023441314697265625,
          0.0025997161865234375,
          0.0031194686889648438,
          0.004077911376953125,
          0.00539398193359375,
          0.006870269775390625,
          0.0083465576171875,
          0.00974273681640625,
          0.01113128662109375,
          0.01241302490234375,
          0.01361083984375,
          0.014739990234375,
          0.0157318115234375,
          0.0164337158203125,
          0.0169677734375,
          0.0174102783203125,
          0.017852783203125,
          0.018280029296875,
          0.018646240234375,
          0.01910400390625,
          0.0194854736328125,
          0.0197906494140625,
          0.0199432373046875,
          0.019866943359375,
          0.0196380615234375,
          0.0192718505859375,
          0.018829345703125,
          0.01837158203125,
          0.017852783203125,
          0.0172576904296875,
          0.0166015625,
          0.015899658203125,
          0.01519012451171875,
          0.01451873779296875,
          0.01393890380859375,
          0.0134735107421875,
          0.01311492919921875,
          0.01279449462890625,
          0.0124969482421875,
          0.01218414306640625,
          0.0118560791015625,
          0.01153564453125,
          0.01120758056640625,
          0.010894775390625,
          0.01058197021484375,
          0.010284423828125,
          0.010009765625,
          0.00977325439453125,
          0.009490966796875,
          0.00923919677734375,
          0.00901031494140625,
          0.0088043212890625,
          0.00860595703125,
          0.0084381103515625,
          0.00830841064453125,
          0.00817108154296875,
          0.0080413818359375,
          0.00794219970703125,
          0.007869720458984375,
          0.00783538818359375,
          0.00782012939453125,
          0.00777435302734375,
          0.007747650146484375,
          0.007785797119140625,
          0.00785064697265625,
          0.0079498291015625,
          0.00800323486328125,
          0.0080413818359375,
          0.008148193359375,
          0.00829315185546875,
          0.0083465576171875,
          0.00843048095703125,
          0.00859832763671875,
          0.00872802734375,
          0.0087432861328125,
          0.00879669189453125,
          0.00913238525390625,
          0.00934600830078125,
          0.00949859619140625,
          0.009857177734375,
          0.01018524169921875,
          0.0101776123046875,
          0.0102996826171875
         ],
         "yaxis": "y"
        }
       ],
       "layout": {
        "legend": {
         "tracegroupgap": 0
        },
        "margin": {
         "t": 60
        },
        "template": {
         "data": {
          "bar": [
           {
            "error_x": {
             "color": "#2a3f5f"
            },
            "error_y": {
             "color": "#2a3f5f"
            },
            "marker": {
             "line": {
              "color": "#E5ECF6",
              "width": 0.5
             },
             "pattern": {
              "fillmode": "overlay",
              "size": 10,
              "solidity": 0.2
             }
            },
            "type": "bar"
           }
          ],
          "barpolar": [
           {
            "marker": {
             "line": {
              "color": "#E5ECF6",
              "width": 0.5
             },
             "pattern": {
              "fillmode": "overlay",
              "size": 10,
              "solidity": 0.2
             }
            },
            "type": "barpolar"
           }
          ],
          "carpet": [
           {
            "aaxis": {
             "endlinecolor": "#2a3f5f",
             "gridcolor": "white",
             "linecolor": "white",
             "minorgridcolor": "white",
             "startlinecolor": "#2a3f5f"
            },
            "baxis": {
             "endlinecolor": "#2a3f5f",
             "gridcolor": "white",
             "linecolor": "white",
             "minorgridcolor": "white",
             "startlinecolor": "#2a3f5f"
            },
            "type": "carpet"
           }
          ],
          "choropleth": [
           {
            "colorbar": {
             "outlinewidth": 0,
             "ticks": ""
            },
            "type": "choropleth"
           }
          ],
          "contour": [
           {
            "colorbar": {
             "outlinewidth": 0,
             "ticks": ""
            },
            "colorscale": [
             [
              0,
              "#0d0887"
             ],
             [
              0.1111111111111111,
              "#46039f"
             ],
             [
              0.2222222222222222,
              "#7201a8"
             ],
             [
              0.3333333333333333,
              "#9c179e"
             ],
             [
              0.4444444444444444,
              "#bd3786"
             ],
             [
              0.5555555555555556,
              "#d8576b"
             ],
             [
              0.6666666666666666,
              "#ed7953"
             ],
             [
              0.7777777777777778,
              "#fb9f3a"
             ],
             [
              0.8888888888888888,
              "#fdca26"
             ],
             [
              1,
              "#f0f921"
             ]
            ],
            "type": "contour"
           }
          ],
          "contourcarpet": [
           {
            "colorbar": {
             "outlinewidth": 0,
             "ticks": ""
            },
            "type": "contourcarpet"
           }
          ],
          "heatmap": [
           {
            "colorbar": {
             "outlinewidth": 0,
             "ticks": ""
            },
            "colorscale": [
             [
              0,
              "#0d0887"
             ],
             [
              0.1111111111111111,
              "#46039f"
             ],
             [
              0.2222222222222222,
              "#7201a8"
             ],
             [
              0.3333333333333333,
              "#9c179e"
             ],
             [
              0.4444444444444444,
              "#bd3786"
             ],
             [
              0.5555555555555556,
              "#d8576b"
             ],
             [
              0.6666666666666666,
              "#ed7953"
             ],
             [
              0.7777777777777778,
              "#fb9f3a"
             ],
             [
              0.8888888888888888,
              "#fdca26"
             ],
             [
              1,
              "#f0f921"
             ]
            ],
            "type": "heatmap"
           }
          ],
          "heatmapgl": [
           {
            "colorbar": {
             "outlinewidth": 0,
             "ticks": ""
            },
            "colorscale": [
             [
              0,
              "#0d0887"
             ],
             [
              0.1111111111111111,
              "#46039f"
             ],
             [
              0.2222222222222222,
              "#7201a8"
             ],
             [
              0.3333333333333333,
              "#9c179e"
             ],
             [
              0.4444444444444444,
              "#bd3786"
             ],
             [
              0.5555555555555556,
              "#d8576b"
             ],
             [
              0.6666666666666666,
              "#ed7953"
             ],
             [
              0.7777777777777778,
              "#fb9f3a"
             ],
             [
              0.8888888888888888,
              "#fdca26"
             ],
             [
              1,
              "#f0f921"
             ]
            ],
            "type": "heatmapgl"
           }
          ],
          "histogram": [
           {
            "marker": {
             "pattern": {
              "fillmode": "overlay",
              "size": 10,
              "solidity": 0.2
             }
            },
            "type": "histogram"
           }
          ],
          "histogram2d": [
           {
            "colorbar": {
             "outlinewidth": 0,
             "ticks": ""
            },
            "colorscale": [
             [
              0,
              "#0d0887"
             ],
             [
              0.1111111111111111,
              "#46039f"
             ],
             [
              0.2222222222222222,
              "#7201a8"
             ],
             [
              0.3333333333333333,
              "#9c179e"
             ],
             [
              0.4444444444444444,
              "#bd3786"
             ],
             [
              0.5555555555555556,
              "#d8576b"
             ],
             [
              0.6666666666666666,
              "#ed7953"
             ],
             [
              0.7777777777777778,
              "#fb9f3a"
             ],
             [
              0.8888888888888888,
              "#fdca26"
             ],
             [
              1,
              "#f0f921"
             ]
            ],
            "type": "histogram2d"
           }
          ],
          "histogram2dcontour": [
           {
            "colorbar": {
             "outlinewidth": 0,
             "ticks": ""
            },
            "colorscale": [
             [
              0,
              "#0d0887"
             ],
             [
              0.1111111111111111,
              "#46039f"
             ],
             [
              0.2222222222222222,
              "#7201a8"
             ],
             [
              0.3333333333333333,
              "#9c179e"
             ],
             [
              0.4444444444444444,
              "#bd3786"
             ],
             [
              0.5555555555555556,
              "#d8576b"
             ],
             [
              0.6666666666666666,
              "#ed7953"
             ],
             [
              0.7777777777777778,
              "#fb9f3a"
             ],
             [
              0.8888888888888888,
              "#fdca26"
             ],
             [
              1,
              "#f0f921"
             ]
            ],
            "type": "histogram2dcontour"
           }
          ],
          "mesh3d": [
           {
            "colorbar": {
             "outlinewidth": 0,
             "ticks": ""
            },
            "type": "mesh3d"
           }
          ],
          "parcoords": [
           {
            "line": {
             "colorbar": {
              "outlinewidth": 0,
              "ticks": ""
             }
            },
            "type": "parcoords"
           }
          ],
          "pie": [
           {
            "automargin": true,
            "type": "pie"
           }
          ],
          "scatter": [
           {
            "fillpattern": {
             "fillmode": "overlay",
             "size": 10,
             "solidity": 0.2
            },
            "type": "scatter"
           }
          ],
          "scatter3d": [
           {
            "line": {
             "colorbar": {
              "outlinewidth": 0,
              "ticks": ""
             }
            },
            "marker": {
             "colorbar": {
              "outlinewidth": 0,
              "ticks": ""
             }
            },
            "type": "scatter3d"
           }
          ],
          "scattercarpet": [
           {
            "marker": {
             "colorbar": {
              "outlinewidth": 0,
              "ticks": ""
             }
            },
            "type": "scattercarpet"
           }
          ],
          "scattergeo": [
           {
            "marker": {
             "colorbar": {
              "outlinewidth": 0,
              "ticks": ""
             }
            },
            "type": "scattergeo"
           }
          ],
          "scattergl": [
           {
            "marker": {
             "colorbar": {
              "outlinewidth": 0,
              "ticks": ""
             }
            },
            "type": "scattergl"
           }
          ],
          "scattermapbox": [
           {
            "marker": {
             "colorbar": {
              "outlinewidth": 0,
              "ticks": ""
             }
            },
            "type": "scattermapbox"
           }
          ],
          "scatterpolar": [
           {
            "marker": {
             "colorbar": {
              "outlinewidth": 0,
              "ticks": ""
             }
            },
            "type": "scatterpolar"
           }
          ],
          "scatterpolargl": [
           {
            "marker": {
             "colorbar": {
              "outlinewidth": 0,
              "ticks": ""
             }
            },
            "type": "scatterpolargl"
           }
          ],
          "scatterternary": [
           {
            "marker": {
             "colorbar": {
              "outlinewidth": 0,
              "ticks": ""
             }
            },
            "type": "scatterternary"
           }
          ],
          "surface": [
           {
            "colorbar": {
             "outlinewidth": 0,
             "ticks": ""
            },
            "colorscale": [
             [
              0,
              "#0d0887"
             ],
             [
              0.1111111111111111,
              "#46039f"
             ],
             [
              0.2222222222222222,
              "#7201a8"
             ],
             [
              0.3333333333333333,
              "#9c179e"
             ],
             [
              0.4444444444444444,
              "#bd3786"
             ],
             [
              0.5555555555555556,
              "#d8576b"
             ],
             [
              0.6666666666666666,
              "#ed7953"
             ],
             [
              0.7777777777777778,
              "#fb9f3a"
             ],
             [
              0.8888888888888888,
              "#fdca26"
             ],
             [
              1,
              "#f0f921"
             ]
            ],
            "type": "surface"
           }
          ],
          "table": [
           {
            "cells": {
             "fill": {
              "color": "#EBF0F8"
             },
             "line": {
              "color": "white"
             }
            },
            "header": {
             "fill": {
              "color": "#C8D4E3"
             },
             "line": {
              "color": "white"
             }
            },
            "type": "table"
           }
          ]
         },
         "layout": {
          "annotationdefaults": {
           "arrowcolor": "#2a3f5f",
           "arrowhead": 0,
           "arrowwidth": 1
          },
          "autotypenumbers": "strict",
          "coloraxis": {
           "colorbar": {
            "outlinewidth": 0,
            "ticks": ""
           }
          },
          "colorscale": {
           "diverging": [
            [
             0,
             "#8e0152"
            ],
            [
             0.1,
             "#c51b7d"
            ],
            [
             0.2,
             "#de77ae"
            ],
            [
             0.3,
             "#f1b6da"
            ],
            [
             0.4,
             "#fde0ef"
            ],
            [
             0.5,
             "#f7f7f7"
            ],
            [
             0.6,
             "#e6f5d0"
            ],
            [
             0.7,
             "#b8e186"
            ],
            [
             0.8,
             "#7fbc41"
            ],
            [
             0.9,
             "#4d9221"
            ],
            [
             1,
             "#276419"
            ]
           ],
           "sequential": [
            [
             0,
             "#0d0887"
            ],
            [
             0.1111111111111111,
             "#46039f"
            ],
            [
             0.2222222222222222,
             "#7201a8"
            ],
            [
             0.3333333333333333,
             "#9c179e"
            ],
            [
             0.4444444444444444,
             "#bd3786"
            ],
            [
             0.5555555555555556,
             "#d8576b"
            ],
            [
             0.6666666666666666,
             "#ed7953"
            ],
            [
             0.7777777777777778,
             "#fb9f3a"
            ],
            [
             0.8888888888888888,
             "#fdca26"
            ],
            [
             1,
             "#f0f921"
            ]
           ],
           "sequentialminus": [
            [
             0,
             "#0d0887"
            ],
            [
             0.1111111111111111,
             "#46039f"
            ],
            [
             0.2222222222222222,
             "#7201a8"
            ],
            [
             0.3333333333333333,
             "#9c179e"
            ],
            [
             0.4444444444444444,
             "#bd3786"
            ],
            [
             0.5555555555555556,
             "#d8576b"
            ],
            [
             0.6666666666666666,
             "#ed7953"
            ],
            [
             0.7777777777777778,
             "#fb9f3a"
            ],
            [
             0.8888888888888888,
             "#fdca26"
            ],
            [
             1,
             "#f0f921"
            ]
           ]
          },
          "colorway": [
           "#636efa",
           "#EF553B",
           "#00cc96",
           "#ab63fa",
           "#FFA15A",
           "#19d3f3",
           "#FF6692",
           "#B6E880",
           "#FF97FF",
           "#FECB52"
          ],
          "font": {
           "color": "#2a3f5f"
          },
          "geo": {
           "bgcolor": "white",
           "lakecolor": "white",
           "landcolor": "#E5ECF6",
           "showlakes": true,
           "showland": true,
           "subunitcolor": "white"
          },
          "hoverlabel": {
           "align": "left"
          },
          "hovermode": "closest",
          "mapbox": {
           "style": "light"
          },
          "paper_bgcolor": "white",
          "plot_bgcolor": "#E5ECF6",
          "polar": {
           "angularaxis": {
            "gridcolor": "white",
            "linecolor": "white",
            "ticks": ""
           },
           "bgcolor": "#E5ECF6",
           "radialaxis": {
            "gridcolor": "white",
            "linecolor": "white",
            "ticks": ""
           }
          },
          "scene": {
           "xaxis": {
            "backgroundcolor": "#E5ECF6",
            "gridcolor": "white",
            "gridwidth": 2,
            "linecolor": "white",
            "showbackground": true,
            "ticks": "",
            "zerolinecolor": "white"
           },
           "yaxis": {
            "backgroundcolor": "#E5ECF6",
            "gridcolor": "white",
            "gridwidth": 2,
            "linecolor": "white",
            "showbackground": true,
            "ticks": "",
            "zerolinecolor": "white"
           },
           "zaxis": {
            "backgroundcolor": "#E5ECF6",
            "gridcolor": "white",
            "gridwidth": 2,
            "linecolor": "white",
            "showbackground": true,
            "ticks": "",
            "zerolinecolor": "white"
           }
          },
          "shapedefaults": {
           "line": {
            "color": "#2a3f5f"
           }
          },
          "ternary": {
           "aaxis": {
            "gridcolor": "white",
            "linecolor": "white",
            "ticks": ""
           },
           "baxis": {
            "gridcolor": "white",
            "linecolor": "white",
            "ticks": ""
           },
           "bgcolor": "#E5ECF6",
           "caxis": {
            "gridcolor": "white",
            "linecolor": "white",
            "ticks": ""
           }
          },
          "title": {
           "x": 0.05
          },
          "xaxis": {
           "automargin": true,
           "gridcolor": "white",
           "linecolor": "white",
           "ticks": "",
           "title": {
            "standoff": 15
           },
           "zerolinecolor": "white",
           "zerolinewidth": 2
          },
          "yaxis": {
           "automargin": true,
           "gridcolor": "white",
           "linecolor": "white",
           "ticks": "",
           "title": {
            "standoff": 15
           },
           "zerolinecolor": "white",
           "zerolinewidth": 2
          }
         }
        },
        "xaxis": {
         "anchor": "y",
         "domain": [
          0,
          1
         ],
         "title": {
          "text": "wavelength [nm]"
         }
        },
        "yaxis": {
         "anchor": "x",
         "domain": [
          0,
          1
         ],
         "title": {
          "text": "L1 normalized reflectance"
         }
        }
       }
      },
      "text/html": [
       "<div>                            <div id=\"cd072cd8-be6f-4f62-ac4c-09c28206e7e3\" class=\"plotly-graph-div\" style=\"height:525px; width:100%;\"></div>            <script type=\"text/javascript\">                require([\"plotly\"], function(Plotly) {                    window.PLOTLYENV=window.PLOTLYENV || {};                                    if (document.getElementById(\"cd072cd8-be6f-4f62-ac4c-09c28206e7e3\")) {                    Plotly.newPlot(                        \"cd072cd8-be6f-4f62-ac4c-09c28206e7e3\",                        [{\"hovertemplate\":\"x=%{x}\\u003cbr\\u003ey=%{y}\\u003cextra\\u003e\\u003c\\u002fextra\\u003e\",\"legendgroup\":\"\",\"line\":{\"color\":\"#636efa\",\"dash\":\"solid\"},\"marker\":{\"symbol\":\"circle\"},\"mode\":\"lines\",\"name\":\"\",\"orientation\":\"v\",\"showlegend\":false,\"x\":[500.0,505.050505050505,510.1010101010101,515.1515151515151,520.2020202020202,525.2525252525253,530.3030303030303,535.3535353535353,540.4040404040404,545.4545454545455,550.5050505050505,555.5555555555555,560.6060606060606,565.6565656565656,570.7070707070707,575.7575757575758,580.8080808080808,585.8585858585859,590.9090909090909,595.959595959596,601.010101010101,606.060606060606,611.1111111111111,616.1616161616162,621.2121212121212,626.2626262626262,631.3131313131313,636.3636363636364,641.4141414141413,646.4646464646464,651.5151515151515,656.5656565656566,661.6161616161617,666.6666666666666,671.7171717171717,676.7676767676768,681.8181818181818,686.8686868686868,691.9191919191919,696.969696969697,702.0202020202021,707.070707070707,712.1212121212121,717.1717171717171,722.2222222222222,727.2727272727273,732.3232323232323,737.3737373737374,742.4242424242424,747.4747474747475,752.5252525252525,757.5757575757575,762.6262626262626,767.6767676767677,772.7272727272727,777.7777777777778,782.8282828282828,787.8787878787879,792.9292929292928,797.9797979797979,803.030303030303,808.0808080808081,813.1313131313132,818.1818181818182,823.2323232323232,828.2828282828282,833.3333333333333,838.3838383838383,843.4343434343434,848.4848484848485,853.5353535353536,858.5858585858585,863.6363636363636,868.6868686868686,873.7373737373737,878.7878787878788,883.8383838383838,888.8888888888889,893.939393939394,898.989898989899,904.040404040404,909.090909090909,914.1414141414141,919.1919191919192,924.2424242424242,929.2929292929293,934.3434343434343,939.3939393939394,944.4444444444443,949.4949494949494,954.5454545454545,959.5959595959596,964.6464646464647,969.6969696969697,974.7474747474747,979.7979797979798,984.8484848484848,989.8989898989898,994.9494949494949,1000.0],\"xaxis\":\"x\",\"y\":[0.003749847412109375,0.0035219192504882812,0.003276824951171875,0.0029544830322265625,0.0028667449951171875,0.002742767333984375,0.002597808837890625,0.0025539398193359375,0.00251007080078125,0.002475738525390625,0.0024967193603515625,0.002471923828125,0.0024394989013671875,0.0023899078369140625,0.002288818359375,0.002254486083984375,0.0022602081298828125,0.0023441314697265625,0.0025997161865234375,0.0031194686889648438,0.004077911376953125,0.00539398193359375,0.006870269775390625,0.0083465576171875,0.00974273681640625,0.01113128662109375,0.01241302490234375,0.01361083984375,0.014739990234375,0.0157318115234375,0.0164337158203125,0.0169677734375,0.0174102783203125,0.017852783203125,0.018280029296875,0.018646240234375,0.01910400390625,0.0194854736328125,0.0197906494140625,0.0199432373046875,0.019866943359375,0.0196380615234375,0.0192718505859375,0.018829345703125,0.01837158203125,0.017852783203125,0.0172576904296875,0.0166015625,0.015899658203125,0.01519012451171875,0.01451873779296875,0.01393890380859375,0.0134735107421875,0.01311492919921875,0.01279449462890625,0.0124969482421875,0.01218414306640625,0.0118560791015625,0.01153564453125,0.01120758056640625,0.010894775390625,0.01058197021484375,0.010284423828125,0.010009765625,0.00977325439453125,0.009490966796875,0.00923919677734375,0.00901031494140625,0.0088043212890625,0.00860595703125,0.0084381103515625,0.00830841064453125,0.00817108154296875,0.0080413818359375,0.00794219970703125,0.007869720458984375,0.00783538818359375,0.00782012939453125,0.00777435302734375,0.007747650146484375,0.007785797119140625,0.00785064697265625,0.0079498291015625,0.00800323486328125,0.0080413818359375,0.008148193359375,0.00829315185546875,0.0083465576171875,0.00843048095703125,0.00859832763671875,0.00872802734375,0.0087432861328125,0.00879669189453125,0.00913238525390625,0.00934600830078125,0.00949859619140625,0.009857177734375,0.01018524169921875,0.0101776123046875,0.0102996826171875],\"yaxis\":\"y\",\"type\":\"scatter\"}],                        {\"template\":{\"data\":{\"histogram2dcontour\":[{\"type\":\"histogram2dcontour\",\"colorbar\":{\"outlinewidth\":0,\"ticks\":\"\"},\"colorscale\":[[0.0,\"#0d0887\"],[0.1111111111111111,\"#46039f\"],[0.2222222222222222,\"#7201a8\"],[0.3333333333333333,\"#9c179e\"],[0.4444444444444444,\"#bd3786\"],[0.5555555555555556,\"#d8576b\"],[0.6666666666666666,\"#ed7953\"],[0.7777777777777778,\"#fb9f3a\"],[0.8888888888888888,\"#fdca26\"],[1.0,\"#f0f921\"]]}],\"choropleth\":[{\"type\":\"choropleth\",\"colorbar\":{\"outlinewidth\":0,\"ticks\":\"\"}}],\"histogram2d\":[{\"type\":\"histogram2d\",\"colorbar\":{\"outlinewidth\":0,\"ticks\":\"\"},\"colorscale\":[[0.0,\"#0d0887\"],[0.1111111111111111,\"#46039f\"],[0.2222222222222222,\"#7201a8\"],[0.3333333333333333,\"#9c179e\"],[0.4444444444444444,\"#bd3786\"],[0.5555555555555556,\"#d8576b\"],[0.6666666666666666,\"#ed7953\"],[0.7777777777777778,\"#fb9f3a\"],[0.8888888888888888,\"#fdca26\"],[1.0,\"#f0f921\"]]}],\"heatmap\":[{\"type\":\"heatmap\",\"colorbar\":{\"outlinewidth\":0,\"ticks\":\"\"},\"colorscale\":[[0.0,\"#0d0887\"],[0.1111111111111111,\"#46039f\"],[0.2222222222222222,\"#7201a8\"],[0.3333333333333333,\"#9c179e\"],[0.4444444444444444,\"#bd3786\"],[0.5555555555555556,\"#d8576b\"],[0.6666666666666666,\"#ed7953\"],[0.7777777777777778,\"#fb9f3a\"],[0.8888888888888888,\"#fdca26\"],[1.0,\"#f0f921\"]]}],\"heatmapgl\":[{\"type\":\"heatmapgl\",\"colorbar\":{\"outlinewidth\":0,\"ticks\":\"\"},\"colorscale\":[[0.0,\"#0d0887\"],[0.1111111111111111,\"#46039f\"],[0.2222222222222222,\"#7201a8\"],[0.3333333333333333,\"#9c179e\"],[0.4444444444444444,\"#bd3786\"],[0.5555555555555556,\"#d8576b\"],[0.6666666666666666,\"#ed7953\"],[0.7777777777777778,\"#fb9f3a\"],[0.8888888888888888,\"#fdca26\"],[1.0,\"#f0f921\"]]}],\"contourcarpet\":[{\"type\":\"contourcarpet\",\"colorbar\":{\"outlinewidth\":0,\"ticks\":\"\"}}],\"contour\":[{\"type\":\"contour\",\"colorbar\":{\"outlinewidth\":0,\"ticks\":\"\"},\"colorscale\":[[0.0,\"#0d0887\"],[0.1111111111111111,\"#46039f\"],[0.2222222222222222,\"#7201a8\"],[0.3333333333333333,\"#9c179e\"],[0.4444444444444444,\"#bd3786\"],[0.5555555555555556,\"#d8576b\"],[0.6666666666666666,\"#ed7953\"],[0.7777777777777778,\"#fb9f3a\"],[0.8888888888888888,\"#fdca26\"],[1.0,\"#f0f921\"]]}],\"surface\":[{\"type\":\"surface\",\"colorbar\":{\"outlinewidth\":0,\"ticks\":\"\"},\"colorscale\":[[0.0,\"#0d0887\"],[0.1111111111111111,\"#46039f\"],[0.2222222222222222,\"#7201a8\"],[0.3333333333333333,\"#9c179e\"],[0.4444444444444444,\"#bd3786\"],[0.5555555555555556,\"#d8576b\"],[0.6666666666666666,\"#ed7953\"],[0.7777777777777778,\"#fb9f3a\"],[0.8888888888888888,\"#fdca26\"],[1.0,\"#f0f921\"]]}],\"mesh3d\":[{\"type\":\"mesh3d\",\"colorbar\":{\"outlinewidth\":0,\"ticks\":\"\"}}],\"scatter\":[{\"fillpattern\":{\"fillmode\":\"overlay\",\"size\":10,\"solidity\":0.2},\"type\":\"scatter\"}],\"parcoords\":[{\"type\":\"parcoords\",\"line\":{\"colorbar\":{\"outlinewidth\":0,\"ticks\":\"\"}}}],\"scatterpolargl\":[{\"type\":\"scatterpolargl\",\"marker\":{\"colorbar\":{\"outlinewidth\":0,\"ticks\":\"\"}}}],\"bar\":[{\"error_x\":{\"color\":\"#2a3f5f\"},\"error_y\":{\"color\":\"#2a3f5f\"},\"marker\":{\"line\":{\"color\":\"#E5ECF6\",\"width\":0.5},\"pattern\":{\"fillmode\":\"overlay\",\"size\":10,\"solidity\":0.2}},\"type\":\"bar\"}],\"scattergeo\":[{\"type\":\"scattergeo\",\"marker\":{\"colorbar\":{\"outlinewidth\":0,\"ticks\":\"\"}}}],\"scatterpolar\":[{\"type\":\"scatterpolar\",\"marker\":{\"colorbar\":{\"outlinewidth\":0,\"ticks\":\"\"}}}],\"histogram\":[{\"marker\":{\"pattern\":{\"fillmode\":\"overlay\",\"size\":10,\"solidity\":0.2}},\"type\":\"histogram\"}],\"scattergl\":[{\"type\":\"scattergl\",\"marker\":{\"colorbar\":{\"outlinewidth\":0,\"ticks\":\"\"}}}],\"scatter3d\":[{\"type\":\"scatter3d\",\"line\":{\"colorbar\":{\"outlinewidth\":0,\"ticks\":\"\"}},\"marker\":{\"colorbar\":{\"outlinewidth\":0,\"ticks\":\"\"}}}],\"scattermapbox\":[{\"type\":\"scattermapbox\",\"marker\":{\"colorbar\":{\"outlinewidth\":0,\"ticks\":\"\"}}}],\"scatterternary\":[{\"type\":\"scatterternary\",\"marker\":{\"colorbar\":{\"outlinewidth\":0,\"ticks\":\"\"}}}],\"scattercarpet\":[{\"type\":\"scattercarpet\",\"marker\":{\"colorbar\":{\"outlinewidth\":0,\"ticks\":\"\"}}}],\"carpet\":[{\"aaxis\":{\"endlinecolor\":\"#2a3f5f\",\"gridcolor\":\"white\",\"linecolor\":\"white\",\"minorgridcolor\":\"white\",\"startlinecolor\":\"#2a3f5f\"},\"baxis\":{\"endlinecolor\":\"#2a3f5f\",\"gridcolor\":\"white\",\"linecolor\":\"white\",\"minorgridcolor\":\"white\",\"startlinecolor\":\"#2a3f5f\"},\"type\":\"carpet\"}],\"table\":[{\"cells\":{\"fill\":{\"color\":\"#EBF0F8\"},\"line\":{\"color\":\"white\"}},\"header\":{\"fill\":{\"color\":\"#C8D4E3\"},\"line\":{\"color\":\"white\"}},\"type\":\"table\"}],\"barpolar\":[{\"marker\":{\"line\":{\"color\":\"#E5ECF6\",\"width\":0.5},\"pattern\":{\"fillmode\":\"overlay\",\"size\":10,\"solidity\":0.2}},\"type\":\"barpolar\"}],\"pie\":[{\"automargin\":true,\"type\":\"pie\"}]},\"layout\":{\"autotypenumbers\":\"strict\",\"colorway\":[\"#636efa\",\"#EF553B\",\"#00cc96\",\"#ab63fa\",\"#FFA15A\",\"#19d3f3\",\"#FF6692\",\"#B6E880\",\"#FF97FF\",\"#FECB52\"],\"font\":{\"color\":\"#2a3f5f\"},\"hovermode\":\"closest\",\"hoverlabel\":{\"align\":\"left\"},\"paper_bgcolor\":\"white\",\"plot_bgcolor\":\"#E5ECF6\",\"polar\":{\"bgcolor\":\"#E5ECF6\",\"angularaxis\":{\"gridcolor\":\"white\",\"linecolor\":\"white\",\"ticks\":\"\"},\"radialaxis\":{\"gridcolor\":\"white\",\"linecolor\":\"white\",\"ticks\":\"\"}},\"ternary\":{\"bgcolor\":\"#E5ECF6\",\"aaxis\":{\"gridcolor\":\"white\",\"linecolor\":\"white\",\"ticks\":\"\"},\"baxis\":{\"gridcolor\":\"white\",\"linecolor\":\"white\",\"ticks\":\"\"},\"caxis\":{\"gridcolor\":\"white\",\"linecolor\":\"white\",\"ticks\":\"\"}},\"coloraxis\":{\"colorbar\":{\"outlinewidth\":0,\"ticks\":\"\"}},\"colorscale\":{\"sequential\":[[0.0,\"#0d0887\"],[0.1111111111111111,\"#46039f\"],[0.2222222222222222,\"#7201a8\"],[0.3333333333333333,\"#9c179e\"],[0.4444444444444444,\"#bd3786\"],[0.5555555555555556,\"#d8576b\"],[0.6666666666666666,\"#ed7953\"],[0.7777777777777778,\"#fb9f3a\"],[0.8888888888888888,\"#fdca26\"],[1.0,\"#f0f921\"]],\"sequentialminus\":[[0.0,\"#0d0887\"],[0.1111111111111111,\"#46039f\"],[0.2222222222222222,\"#7201a8\"],[0.3333333333333333,\"#9c179e\"],[0.4444444444444444,\"#bd3786\"],[0.5555555555555556,\"#d8576b\"],[0.6666666666666666,\"#ed7953\"],[0.7777777777777778,\"#fb9f3a\"],[0.8888888888888888,\"#fdca26\"],[1.0,\"#f0f921\"]],\"diverging\":[[0,\"#8e0152\"],[0.1,\"#c51b7d\"],[0.2,\"#de77ae\"],[0.3,\"#f1b6da\"],[0.4,\"#fde0ef\"],[0.5,\"#f7f7f7\"],[0.6,\"#e6f5d0\"],[0.7,\"#b8e186\"],[0.8,\"#7fbc41\"],[0.9,\"#4d9221\"],[1,\"#276419\"]]},\"xaxis\":{\"gridcolor\":\"white\",\"linecolor\":\"white\",\"ticks\":\"\",\"title\":{\"standoff\":15},\"zerolinecolor\":\"white\",\"automargin\":true,\"zerolinewidth\":2},\"yaxis\":{\"gridcolor\":\"white\",\"linecolor\":\"white\",\"ticks\":\"\",\"title\":{\"standoff\":15},\"zerolinecolor\":\"white\",\"automargin\":true,\"zerolinewidth\":2},\"scene\":{\"xaxis\":{\"backgroundcolor\":\"#E5ECF6\",\"gridcolor\":\"white\",\"linecolor\":\"white\",\"showbackground\":true,\"ticks\":\"\",\"zerolinecolor\":\"white\",\"gridwidth\":2},\"yaxis\":{\"backgroundcolor\":\"#E5ECF6\",\"gridcolor\":\"white\",\"linecolor\":\"white\",\"showbackground\":true,\"ticks\":\"\",\"zerolinecolor\":\"white\",\"gridwidth\":2},\"zaxis\":{\"backgroundcolor\":\"#E5ECF6\",\"gridcolor\":\"white\",\"linecolor\":\"white\",\"showbackground\":true,\"ticks\":\"\",\"zerolinecolor\":\"white\",\"gridwidth\":2}},\"shapedefaults\":{\"line\":{\"color\":\"#2a3f5f\"}},\"annotationdefaults\":{\"arrowcolor\":\"#2a3f5f\",\"arrowhead\":0,\"arrowwidth\":1},\"geo\":{\"bgcolor\":\"white\",\"landcolor\":\"#E5ECF6\",\"subunitcolor\":\"white\",\"showland\":true,\"showlakes\":true,\"lakecolor\":\"white\"},\"title\":{\"x\":0.05},\"mapbox\":{\"style\":\"light\"}}},\"xaxis\":{\"anchor\":\"y\",\"domain\":[0.0,1.0],\"title\":{\"text\":\"wavelength [nm]\"}},\"yaxis\":{\"anchor\":\"x\",\"domain\":[0.0,1.0],\"title\":{\"text\":\"L1 normalized reflectance\"}},\"legend\":{\"tracegroupgap\":0},\"margin\":{\"t\":60}},                        {\"responsive\": true}                    ).then(function(){\n",
       "                            \n",
       "var gd = document.getElementById('cd072cd8-be6f-4f62-ac4c-09c28206e7e3');\n",
       "var x = new MutationObserver(function (mutations, observer) {{\n",
       "        var display = window.getComputedStyle(gd).display;\n",
       "        if (!display || display === 'none') {{\n",
       "            console.log([gd, 'removed!']);\n",
       "            Plotly.purge(gd);\n",
       "            observer.disconnect();\n",
       "        }}\n",
       "}});\n",
       "\n",
       "// Listen for the removal of the full notebook cells\n",
       "var notebookContainer = gd.closest('#notebook-container');\n",
       "if (notebookContainer) {{\n",
       "    x.observe(notebookContainer, {childList: true});\n",
       "}}\n",
       "\n",
       "// Listen for the clearing of the current output cell\n",
       "var outputEl = gd.closest('.output');\n",
       "if (outputEl) {{\n",
       "    x.observe(outputEl, {childList: true});\n",
       "}}\n",
       "\n",
       "                        })                };                });            </script>        </div>"
      ]
     },
     "metadata": {},
     "output_type": "display_data"
    }
   ],
   "source": [
    "# Plot the result\n",
    "fig = px.line(x=tivita_wavelengths(), y=colon_median_spectrum)\n",
    "fig.update_layout(xaxis_title=\"wavelength [nm]\", yaxis_title=\"L1 normalized reflectance\")"
   ]
  }
 ],
 "metadata": {
  "kernelspec": {
   "display_name": "Python 3 (ipykernel)",
   "language": "python",
   "name": "python3"
  },
  "language_info": {
   "codemirror_mode": {
    "name": "ipython",
    "version": 3
   },
   "file_extension": ".py",
   "mimetype": "text/x-python",
   "name": "python",
   "nbconvert_exporter": "python",
   "pygments_lexer": "ipython3",
   "version": "3.11.9"
  },
  "vscode": {
   "interpreter": {
    "hash": "61170b39e877780504190538137489184be539aab65d19cb093e9e0273d7e14b"
   }
  }
 },
 "nbformat": 4,
 "nbformat_minor": 5
}
