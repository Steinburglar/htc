{
 "cells": [
  {
   "cell_type": "markdown",
   "metadata": {},
   "source": [
    "# Tissue Atlas Setup Walkthrough\n",
    "This notebook walks a user through the process of setting up the DKFZ htc framework to work data from the DKFZ tissue atlas dataset. The Tissue Atlas dataset is organized differently from the data used by the original htc framework, so a slightly edited version of the htc framework must me used. This version retains the ability to use default datasets from the original htc framework (or aims to). but also allows users to access the tissue atlas.\n",
    "\n",
    "This notebook will guide the user through the initial setup necessary to use the framework. After completing this notebook, a second Notebook, titled \"TissueAtlasTraining\" will take you through actually using the data. The notebook is designed for use by a medical researcher with little to no python experience, and it will walk you explicitly through all the steps you need to get started and run your own training and inference on a dataset of your choice.\n",
    "\n",
    "Reminder: htc is only executable on Ubuntu. If you are running windows, I recommend using WSL to get set up with linux capabilities.\n"
   ]
  },
  {
   "cell_type": "markdown",
   "metadata": {},
   "source": [
    "## PATH Environment Variables\n",
    "In order to use the htc framework, you must first define PATH Environment variables in an appropriate file. Please consult the README in the htc repository for a more detailed treatment of these environment variables. Here, we will provide a basic overview of how they work and instructions on how to use them.\n",
    "\n",
    "PATH environment variables are variables that the htc framework uses to locate the dataset(s) that you want it to use. First, you must create an environments file. If you have cloned the htc framework as suggested in the readme, simply navigate to the repositories root Directory (should be named htc). In this directory, create a new file named \".env\"\n",
    "\n",
    "For example, in a bash terminal, run:\n",
    "\n",
    "```bash\n",
    "cd ~/path/to/my/htc\n",
    "nano .env\n",
    "```\n",
    "\n",
    "Replace \"~/path/to/my/htc\" with the actual path on your system to the cloned htc repository.\n",
    "\n",
    "Now, you must define your PATH variables. the htc framework uses a specific naming convention, so please follow the steps carefully.\n",
    "\n",
    "### PATH to dataset(s):\n",
    "For our purposes, there are two types of PATH environment variables used by the framework. The first is the PATH_Tivita variable, which tells the framework where to look for the dataset that you wish to use. first, you must find the path on your system to the dataset that you want to use. In the current iteration of the framework, a 'dataset\" has a specific meaning: a dataset is a directory in the larger Tissue Atlas folder structure, that itself contains a directory titled \"data\", which is where the imaging data itself is actually kept (This specific structure is a vestige of the original frameworks close coupling with the default dataset design, so while it may seem odd to the user it is motivated on the back end).\n",
    "Importantly, the \"dataset\" path should not be to the \"data\" directory itself. In the current iteration, it must also not point to a parent or grand-parent directory. (The author aims to implement this soon. however, in the current structure, you should only want to point to one \"dataset\" because we have only binary annotations for each class). \n",
    "\n",
    "For example the following path is a valid path to a dataset:\n",
    "\n",
    "```bash\n",
    " ~/TIVITA_Cat/Cat_Pig/Cat_atlas/Cat_0002_small_bowel\n",
    "```\n",
    "However, the next two are not valid \"dataset\" paths:\n",
    "\n",
    "```bash\n",
    " ~/TIVITA_Cat/Cat_Pig/Cat_atlas/Cat_0002_small_bowel/data\n",
    " ~/TIVITA_Cat/Cat_Pig/Cat_atlas\n",
    "```\n",
    "\n",
    "Once you have found your dataset path, you can define a Path environment variable by copying and pasting and the following code into the .env file. (replace the paths with your own path)\n",
    "```bash\n",
    " PATH_Tivita_Cat_0002_small_bowel=\"~/TIVITA_Cat/Cat_Pig/Cat_atlas/Cat_0002_small_bowel:shortcut=smallbowel\"\n",
    "```\n",
    "The shortcut here provides an extra way to access your dataset further in the framework, name it how you like. However, the variable name is NOT trivial. it must follow the form:\n",
    "```bash\n",
    " PATH_Tivita_<your_dataset_directory_name>\n",
    "```\n",
    "If the variable name does not match the path it is handed, the framework will not work.\n",
    "\n",
    "If you have multiple datasets that you would like to use, simply add them in the same way to your .env folder. Finally, when you are done, in the root of your htc directory run:\n",
    "```bash\n",
    "source .env\n",
    "```\n",
    "You can also copy this source line to your .bashrc, so that every time you open a new terminal the .env file is automatically sourced"
   ]
  },
  {
   "cell_type": "markdown",
   "metadata": {},
   "source": [
    "## PATH to Results\n",
    "\n",
    "You also need to add a path to a \"Results\" folder. this is where the framework will send the output of training or inference tasks. the setup is pretty much the same as with the dataset, except simpler:\n",
    "```bash\n",
    " PATH_HTC_RESULTS=\"~/path/to/results\"\n",
    "```\n",
    "Do not specify a shortcut for the results path. You don't need one, and the framework will not recognize it. If you want to have multiple results folders, you can do that as well, for instructions please consult the README.md in the htc repository"
   ]
  },
  {
   "cell_type": "markdown",
   "metadata": {},
   "source": [
    "## PATH to Exteral\n",
    "\n",
    "The original htc framework is designed and strongly integrated around an expected dataset structure. In particular, The original htc expects a dataset to be divided into \"intermediates\" and \"data\", and within the \"data\" folder to find a specific json named \"dataset_settings.json\" (more on that later). However, with the tissue atlas we are somewhat stuck with the structure we have, and we cannot go adding folders and jsons here and there.\n",
    "\n",
    "Instead, this modified framework allows you to specify an extra PATH environment variable to a directory named \"external\". This directory is in many ways interpreted by the framework as a dataset, and should mimic the expected structure of the dataset (with intermediates and data subdirectories). However, it contains no core data, and instead houses all the extra metadata, preprocessed data, and configuration files needed by the framework. The modified framework is written so that if it detects an external directory (as set with a PATH variable,), the external directory will take precedence over the dataset directory, and the framework will use the external directory for all the \"extras\", and the dataset directory only for the contents of the \"data\" subdirectory.\n",
    "\n",
    "If this is confusing, Don't worry -- all you should know  to use it is that the externals directory is a workaround to allow us to build our extra files and information in a location of our choosing, that is not relative to the dataset. \n",
    "\n",
    "To define the variable, create an \"external\" directory at your desired location on our system. then write in .env:\n",
    "\n",
    "```bash\n",
    " PATH_HTC_EXTERNAL=\"~/path/to/external:shortcut=myshortcut\"\n",
    "```\n",
    "again, you may create a shortcut of your choosing."
   ]
  },
  {
   "cell_type": "markdown",
   "metadata": {},
   "source": [
    "# Building your external directory\n",
    "\n",
    "now that we have defined an external directory, we need to make sure it has all the right contents. This consists of creating the \"data\" and \"intermediates\" subdirectories, and populating them with the appropriate files. \n",
    "\n",
    "The following code cells will do just that for you. Please run them, filling out."
   ]
  },
  {
   "cell_type": "code",
   "execution_count": 1,
   "metadata": {},
   "outputs": [],
   "source": [
    "#imports\n",
    "from pathlib import Path\n",
    "\n",
    "import json\n",
    "\n",
    "import pandas as pd\n",
    "from IPython.display import JSON\n",
    "from typing import TYPE_CHECKING, Any, Callable, Union, Self\n",
    "from htc import decompress_file, read_meta_file, read_tivita_hsi, settings\n",
    "from htc.tivita.DataPath import DataPath\n",
    "from htc import settings\n",
    "from htc.tivita.metadata import generate_metadata_table\n",
    "#secific preprocessing files\n",
    "from htc.data_processing.run_l1_normalization import L1Normalization"
   ]
  },
  {
   "cell_type": "markdown",
   "metadata": {},
   "source": [
    "Please replace <my_shortcut> in the data_dir definition with the shortcut you chose to your desired dataset:"
   ]
  },
  {
   "cell_type": "code",
   "execution_count": 5,
   "metadata": {},
   "outputs": [],
   "source": [
    "#all variables are type: Path\n",
    "data_dir = settings.data_dirs.test_dataset11june\n",
    "external_dir = settings.external_dir['PATH_HTC_EXTERNAL']['path_dataset']\n",
    "output_dir = settings.intermediates_dirs['PATH_HTC_EXTERNAL']"
   ]
  },
  {
   "cell_type": "code",
   "execution_count": 6,
   "metadata": {},
   "outputs": [
    {
     "name": "stdout",
     "output_type": "stream",
     "text": [
      "Created directory: /home/lucas/dkfz/htc/tests/test_11jun/external/data\n",
      "Created directory: /home/lucas/dkfz/htc/tests/test_11jun/external/intermediates\n",
      "Created directory: /home/lucas/dkfz/htc/tests/test_11jun/external/intermediates/preprocessing\n",
      "Created directory: /home/lucas/dkfz/htc/tests/test_11jun/external/intermediates/preprocessing/L1\n",
      "Created directory: /home/lucas/dkfz/htc/tests/test_11jun/external/intermediates/preprocessing/parameter_images\n",
      "Created directory: /home/lucas/dkfz/htc/tests/test_11jun/external/intermediates/rgb_crops\n",
      "Created directory: /home/lucas/dkfz/htc/tests/test_11jun/external/intermediates/segmentations\n",
      "Created directory: /home/lucas/dkfz/htc/tests/test_11jun/external/intermediates/tables\n"
     ]
    }
   ],
   "source": [
    "def populate_external(path: Path) -> None:\n",
    "    \"\"\"\n",
    "    Populate the external directory with appropriate structure\n",
    "\n",
    "    Args:\n",
    "        path: Path to the external directory.\n",
    "    \"\"\"\n",
    "    subdirectories = [\"data\", \"intermediates\",]\n",
    "    intermediates_subdirectories = [\"preprocessing\", \"rgb_crops\", \"segmentations\", \"tables\" ]\n",
    "    preprocessing_subdirectories = [\"L1\", \"parameter_images\"]\n",
    "    for subdir in subdirectories:\n",
    "        subdir_path = path / subdir\n",
    "        subdir_path.mkdir(parents=True, exist_ok=True)\n",
    "        print(f\"Created directory: {subdir_path}\")\n",
    "        if subdir == \"intermediates\":\n",
    "            for int_subdir in intermediates_subdirectories:\n",
    "                int_subdir_path = subdir_path / int_subdir\n",
    "                int_subdir_path.mkdir(parents=True, exist_ok=True)\n",
    "                print(f\"Created directory: {int_subdir_path}\")\n",
    "                if int_subdir == \"preprocessing\":\n",
    "                    for pre_subdir in preprocessing_subdirectories:\n",
    "                        pre_subdir_path = int_subdir_path / pre_subdir\n",
    "                        pre_subdir_path.mkdir(parents=True, exist_ok=True)\n",
    "                        print(f\"Created directory: {pre_subdir_path}\")\n",
    "    \n",
    "\n",
    "# Example usage:\n",
    "populate_external(external_dir)"
   ]
  },
  {
   "cell_type": "markdown",
   "metadata": {},
   "source": [
    "### Specify Dataset Settings\n",
    "\n",
    "The next step is to populate the \"data\" directory of the external directory with dataset_settings.json file, which contains with some important metadata about your dataset. This is used by the framework to facilitate data loading, and to provide some important functionalities with the data.\n",
    "\n",
    "\n",
    "\n",
    "\n",
    "You can edit add more information to the .json if you like, such as subject or annotator mapping, but this tutorial does not yet cover those options. "
   ]
  },
  {
   "cell_type": "code",
   "execution_count": 21,
   "metadata": {},
   "outputs": [
    {
     "data": {
      "text/plain": [
       "PosixPath('/home/lucas/dkfz/htc/tests/test_11jun/external/data/dataset_settings.json')"
      ]
     },
     "execution_count": 21,
     "metadata": {},
     "output_type": "execute_result"
    }
   ],
   "source": [
    "import shutil\n",
    "import os\n",
    "tutorial_dir = Path(os.getcwd())\n",
    "default_dataset_settings = tutorial_dir / \"setup_dataset_settings.json\"\n",
    "destination = external_dir/\"data/dataset_settings.json\"\n",
    "shutil.copy(default_dataset_settings, destination)"
   ]
  },
  {
   "cell_type": "markdown",
   "metadata": {},
   "source": [
    "Now we need to fill these subdirectories with the appropriate data"
   ]
  },
  {
   "cell_type": "code",
   "execution_count": 22,
   "metadata": {},
   "outputs": [
    {
     "name": "stdout",
     "output_type": "stream",
     "text": [
      "external directory found\n"
     ]
    }
   ],
   "source": [
    "#get list of paths\n",
    "paths = list(DataPath.iterate(data_dir, filters = None, annotation_name= None)) #might have to change kwargs"
   ]
  },
  {
   "cell_type": "code",
   "execution_count": 23,
   "metadata": {},
   "outputs": [
    {
     "data": {
      "application/vnd.jupyter.widget-view+json": {
       "model_id": "3c6e4d9ea1a545ccb72e2140c304bdfc",
       "version_major": 2,
       "version_minor": 0
      },
      "text/plain": [
       "Output()"
      ]
     },
     "metadata": {},
     "output_type": "display_data"
    },
    {
     "data": {
      "text/html": [
       "<pre style=\"white-space:pre;overflow-x:auto;line-height:normal;font-family:Menlo,'DejaVu Sans Mono',consolas,'Courier New',monospace\"></pre>\n"
      ],
      "text/plain": []
     },
     "metadata": {},
     "output_type": "display_data"
    },
    {
     "data": {
      "text/html": [
       "<pre style=\"white-space:pre;overflow-x:auto;line-height:normal;font-family:Menlo,'DejaVu Sans Mono',consolas,'Courier New',monospace\">\n",
       "</pre>\n"
      ],
      "text/plain": [
       "\n"
      ]
     },
     "metadata": {},
     "output_type": "display_data"
    }
   ],
   "source": [
    "#create l1 norm .blosc files\n",
    "L1Normalization(\n",
    "        paths=paths, file_type=\"blosc\", output_dir=(output_dir/ \"preprocessing\"), regenerate= False\n",
    "    ).run()"
   ]
  },
  {
   "cell_type": "code",
   "execution_count": 24,
   "metadata": {},
   "outputs": [],
   "source": [
    "#create meta tables\n",
    "dataset_name = data_dir.parent.name\n",
    "tables_dir = output_dir / \"tables\"\n",
    "tables_dir.mkdir(parents=True, exist_ok=True)\n",
    "meta_dataframe = generate_metadata_table(paths)\n",
    "meta_dataframe.to_csv(output_dir/f\"tables/{dataset_name}@meta.csv\")\n",
    "meta_dataframe.to_feather(output_dir/f\"tables/{dataset_name}@meta.feather\")\n"
   ]
  },
  {
   "cell_type": "markdown",
   "metadata": {},
   "source": [
    "# Tutorial Incomplete: missing segmentations section (ask htc authors)"
   ]
  },
  {
   "cell_type": "markdown",
   "metadata": {},
   "source": [
    "## Loading Data\n",
    "\n",
    "We will end with a brief demonstration of how the framework loads data. In the Training notebook, this process will be rolled into other class constructors, However, there are many functionalities for data analysis, such as retrieving and plotting median reflectance across the HSI spectrum for an organ (see original htc \"General\" tutorial for more info)\n",
    "\n",
    "Start by importing necessary packages, and defining the Path object to your dataset_settings json."
   ]
  },
  {
   "cell_type": "code",
   "execution_count": 25,
   "metadata": {},
   "outputs": [],
   "source": [
    "%load_ext autoreload\n",
    "%autoreload 2\n",
    "from pathlib import Path\n",
    "\n",
    "from htc import settings\n",
    "from htc.tivita.DataPath import DataPath"
   ]
  },
  {
   "cell_type": "markdown",
   "metadata": {},
   "source": [
    "There are then 3 ways to build datapaths to the images. one path should always always represents just one timestamp (image) directory"
   ]
  },
  {
   "cell_type": "code",
   "execution_count": 26,
   "metadata": {},
   "outputs": [
    {
     "name": "stdout",
     "output_type": "stream",
     "text": [
      "external directory found\n"
     ]
    },
    {
     "data": {
      "text/plain": [
       "['2021_04_15_09_22_02', '2021_04_28_08_49_12']"
      ]
     },
     "execution_count": 26,
     "metadata": {},
     "output_type": "execute_result"
    }
   ],
   "source": [
    "#1 via iteration: main tool to access images\n",
    "#for \"your_shortcut, use the shortcut you defined earlier in the PATH variable\"\n",
    "\n",
    "paths = list(DataPath.iterate(settings.data_dirs.test_dataset11june))\n",
    "[p.timestamp for p in paths[:10]]"
   ]
  },
  {
   "cell_type": "markdown",
   "metadata": {},
   "source": [
    "Now that are set up, you can go to the \"TissueAtlasTraining.ipynb\" notebook to begin training a model on your dataset"
   ]
  },
  {
   "cell_type": "markdown",
   "metadata": {},
   "source": []
  }
 ],
 "metadata": {
  "kernelspec": {
   "display_name": "htc-dev",
   "language": "python",
   "name": "python3"
  },
  "language_info": {
   "codemirror_mode": {
    "name": "ipython",
    "version": 3
   },
   "file_extension": ".py",
   "mimetype": "text/x-python",
   "name": "python",
   "nbconvert_exporter": "python",
   "pygments_lexer": "ipython3",
   "version": "3.11.9"
  }
 },
 "nbformat": 4,
 "nbformat_minor": 2
}
