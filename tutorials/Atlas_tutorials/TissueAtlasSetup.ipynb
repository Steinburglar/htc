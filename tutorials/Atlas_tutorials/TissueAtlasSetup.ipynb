{
 "cells": [
  {
   "cell_type": "markdown",
   "metadata": {},
   "source": [
    "# Tissue Atlas Setup Walkthrough\n",
    "This notebook walks a user through the process of setting up the DKFZ htc framework to work data from the DKFZ tissue atlas dataset. The Tissue Atlas dataset is organized differently from the data used by the original htc framework, so a slightly edited version of the htc framework must me used. This version retains the ability to use default datasets from the original htc framework (or aims to). but also allows users to access the tissue atlas.\n",
    "\n",
    "This notebook will guide the user through the initial setup necessary to use the framework. After completing this notebook, a second Notebook, titled \"TissueAtlasTraining\" will take you through actually using the data. The notebook is designed for use by a medical researcher with little to no python experience, and it will walk you explicitly through all the steps you need to get started and run your own training and inference on a dataset of your choice.\n",
    "\n",
    "Reminder: htc is only executable on Ubuntu. If you are running windows, I recommend using WSL to get set up with linux capabilities.\n"
   ]
  },
  {
   "cell_type": "markdown",
   "metadata": {},
   "source": [
    "## PATH Environment Variables\n",
    "In order to use the htc framework, you must first define PATH Environment variables in an appropriate file. Please consult the README in the htc repository for a more detailed treatment of these environment variables. Here, we will provide a basic overview of how they work and instructions on how to use them.\n",
    "\n",
    "PATH environment variables are variables that the htc framework uses to locate the dataset(s) that you want it to use. First, you must create an environments file. If you have cloned the htc framework as suggested in the readme, simply navigate to the repositories root Directory (should be named htc). In this directory, create a new file named \".env\"\n",
    "\n",
    "For example, in a bash terminal, run:\n",
    "\n",
    "```bash\n",
    "cd ~/path/to/my/htc\n",
    "nano .env\n",
    "```\n",
    "\n",
    "Replace \"~/path/to/my/htc\" with the actual path on your system to the cloned htc repository.\n",
    "\n",
    "Now, you must define your PATH variables. the htc framework uses a specific naming convention, so please follow the steps carefully.\n",
    "\n",
    "### PATH to dataset(s):\n",
    "for our purposes, there are two types of PATH environment variables used by the framework. The first is the PATH_Tivita variable, which tells the framework where to look for the dataset that you wish to use. first, you must find the path on your system to the dataset that you want to use. In the current iteration of the framework, a 'dataset\" has a specific meaning: a dataset is a directory in the larger Tissue Atlas folder structure, that itself contains a directory titled \"data\", which is where the imaging data itself is actually kept (This specific structure is a vestige of the original frameworks close coupling with the default dataset design, so while it may seem odd to the user it is motivated on the back end).\n",
    "Importantly, the \"dataset\" path should not be to the \"data\" directory itself. In the current iteration, it must also not point to a parent or grand-parent directory. (The author aims to implement this soon. however, in the current structure, you should only want to point to one \"dataset\" because we have only binary annotations for each class). \n",
    "\n",
    "For example the following path is a valid path to a dataset:\n",
    "\n",
    "```bash\n",
    " ~/TIVITA_Cat/Cat_Pig/Cat_atlas/Cat_0002_small_bowel\n",
    "```\n",
    "However, the next two are not valid \"dataset\" paths:\n",
    "\n",
    "```bash\n",
    " ~/TIVITA_Cat/Cat_Pig/Cat_atlas/Cat_0002_small_bowel/data\n",
    " ~/TIVITA_Cat/Cat_Pig/Cat_atlas\n",
    "```\n",
    "\n",
    "Once you have found your dataset path, you can define a Path environment variable by copying and pasting and the following code into the .env file. (replace the paths with your own path)\n",
    "```bash\n",
    " PATH_Tivita_Cat_0002_small_bowel=\"~/TIVITA_Cat/Cat_Pig/Cat_atlas/Cat_0002_small_bowel:shortcut=smallbowel\"\n",
    "```\n",
    "The shortcut here provides an extra way to access your dataset further in the framework, name it how you like. However, the variable name is NOT trivial. it must follow the form:\n",
    "```bash\n",
    " PATH_Tivita_<your_dataset_directory_name>\n",
    "```\n",
    "If the variable name does not match the path it is handed, the framework will not work.\n",
    "\n",
    "If you have multiple datasets that you would like to use, simply add them in the same way to your .env folder. Finally, when you are done, in the root of your htc directory run:\n",
    "```bash\n",
    "source .env\n",
    "```\n",
    "You can also copy this source line to your .bashrc, so that every time you open a new terminal the .env file is automatically sourced"
   ]
  },
  {
   "cell_type": "markdown",
   "metadata": {},
   "source": [
    "## PATH to Results\n",
    "\n",
    "You also need to add a path to a \"Results\" folder. this is where the framework will send the output of training or inference tasks. the setup is pretty much the same as with the dataset, except simpler:\n",
    "```bash\n",
    " PATH_HTC_RESULTS=\"~/path/to/results\"\n",
    "```\n",
    "Do not specify a shortcut for the results path. You don't need one, and the framework will not recognize it. If you want to have multiple results folders, you can do that as well, for instructions please consult the README.md in the htc repository"
   ]
  },
  {
   "cell_type": "markdown",
   "metadata": {},
   "source": [
    "## Specify Dataset Settings\n",
    "\n",
    "The first step to load data is to create a dataset_settings.json file with some important metadata about your dataset. This is used by the framework to facilitate data loading, and to provide some important functionalities with the data.\n",
    "\n",
    "In a directory of your choice on your system, create a .json file with a name of your choosing. The name should probably correspond to the dataset/project you are working on, but its up to you. e.g,:\n",
    "```bash\n",
    "cd ~path/to/dataset_settings/\n",
    "nano myname.json\n",
    "```\n",
    "\n",
    "Copy and paste the following code block into the .json file, replacing \"NAME_OF_YOUR_DATASET\" with your dataset's name (e.g., \"Cat_0002_small_bowel\")\n",
    "The following JSON is set up for binary classifications, between \"class_1\" (organ of interest) and \"unlabeled\" (background). You can also change the name of class_1 to match the organ you are working on.\n",
    "\n",
    "You can add more information to the .json if you like, such as subject or annotator mapping, but this tutorial does not yet cover those options. "
   ]
  },
  {
   "cell_type": "code",
   "execution_count": 1,
   "metadata": {},
   "outputs": [
    {
     "data": {
      "text/plain": [
       "{'dataset_name': 'NAME_OF_YOUR_DATASET',\n",
       " 'data_path_class': 'htc.tivita.DataPathAtlas2>DataPathAtlas',\n",
       " 'shape': [480, 640, 100],\n",
       " 'shape_names': ['height', 'width', 'channels'],\n",
       " 'label_mapping': {'class_1': 0, 'unlabeled': 255},\n",
       " 'last_valid_label_index': 0}"
      ]
     },
     "execution_count": 1,
     "metadata": {},
     "output_type": "execute_result"
    }
   ],
   "source": [
    "{\n",
    "    \"dataset_name\": \"NAME_OF_YOUR_DATASET\",\n",
    "    \"data_path_class\": \"htc.tivita.DataPathAtlas2>DataPathAtlas\",\n",
    "    \"shape\": [\n",
    "        480,\n",
    "        640,\n",
    "        100\n",
    "    ],\n",
    "    \"shape_names\": [\n",
    "        \"height\",\n",
    "        \"width\",\n",
    "        \"channels\"\n",
    "    ],\n",
    "    \"label_mapping\": {\n",
    "        \"class_1\": 0,\n",
    "        \"unlabeled\": 255\n",
    "    },\n",
    "    \"last_valid_label_index\": 0\n",
    "    \n",
    "}"
   ]
  },
  {
   "cell_type": "markdown",
   "metadata": {},
   "source": [
    "## Loading Data\n",
    "\n",
    "We will end with a brief demonstration of how the framework loads data. In the Training notebook, this process will be rolled into other class constructors, However, there are many functionalities for data analysis, such as retrieving and plotting median reflectance across the HSI spectrum for an organ (see original htc \"General\" tutorial for more info)\n",
    "\n",
    "Start by importing necessary packages, and defining the Path object to your dataset_settings json."
   ]
  },
  {
   "cell_type": "code",
   "execution_count": 2,
   "metadata": {},
   "outputs": [],
   "source": [
    "%load_ext autoreload\n",
    "%autoreload 2\n",
    "from pathlib import Path\n",
    "\n",
    "from htc import settings\n",
    "from htc.tivita.DataPath import DataPath"
   ]
  },
  {
   "cell_type": "markdown",
   "metadata": {},
   "source": [
    "There are then 3 ways to build datapaths to the images. one path should always always represents just one timestamp (image) directory"
   ]
  },
  {
   "cell_type": "code",
   "execution_count": 3,
   "metadata": {},
   "outputs": [
    {
     "name": "stdout",
     "output_type": "stream",
     "text": [
      "external directory found\n"
     ]
    },
    {
     "data": {
      "text/plain": [
       "['2021_04_15_09_22_02', '2021_04_28_08_49_12']"
      ]
     },
     "execution_count": 3,
     "metadata": {},
     "output_type": "execute_result"
    }
   ],
   "source": [
    "#1 via iteration: main tool to access images\n",
    "#for \"your_shortcut, use the shortcut you defined earlier in the PATH variable\"\n",
    "\n",
    "paths = list(DataPath.iterate(settings.data_dirs.test_dataset11june))\n",
    "[p.timestamp for p in paths[:10]]"
   ]
  },
  {
   "cell_type": "markdown",
   "metadata": {},
   "source": [
    "Now that are set up, you can go to the \"TissueAtlasTraining.ipynb\" notebook to begin training a model on your dataset"
   ]
  },
  {
   "cell_type": "markdown",
   "metadata": {},
   "source": []
  }
 ],
 "metadata": {
  "kernelspec": {
   "display_name": "htc-dev",
   "language": "python",
   "name": "python3"
  },
  "language_info": {
   "codemirror_mode": {
    "name": "ipython",
    "version": 3
   },
   "file_extension": ".py",
   "mimetype": "text/x-python",
   "name": "python",
   "nbconvert_exporter": "python",
   "pygments_lexer": "ipython3",
   "version": "3.11.9"
  }
 },
 "nbformat": 4,
 "nbformat_minor": 2
}
