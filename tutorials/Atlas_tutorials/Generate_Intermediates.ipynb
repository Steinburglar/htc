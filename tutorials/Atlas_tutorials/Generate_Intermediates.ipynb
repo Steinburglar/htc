{
 "cells": [
  {
   "cell_type": "markdown",
   "metadata": {},
   "source": [
    "notebook to generate an appropriate intermediates folder for a dataset on the tissue atlas data"
   ]
  },
  {
   "cell_type": "code",
   "execution_count": 1,
   "metadata": {},
   "outputs": [],
   "source": [
    "#start with same process as the training notebook\n",
    "from pathlib import Path\n",
    "\n",
    "import json\n",
    "\n",
    "import pandas as pd\n",
    "from IPython.display import JSON\n",
    "from typing import TYPE_CHECKING, Any, Callable, Union, Self\n",
    "from htc import decompress_file, read_meta_file, read_tivita_hsi, settings\n",
    "from htc.tivita.DataPath import DataPath\n",
    "from htc import settings\n",
    "from htc.tivita.metadata import generate_metadata_table\n",
    "#secific preprocessing files\n",
    "from htc.data_processing.run_l1_normalization import L1Normalization\n",
    "\n",
    "\n",
    "\n",
    "data_dir = settings.data_dirs.test_dataset11june\n",
    "output_dir = settings.intermediates_dirs['PATH_HTC_EXTERNAL']"
   ]
  },
  {
   "cell_type": "code",
   "execution_count": null,
   "metadata": {},
   "outputs": [],
   "source": []
  },
  {
   "cell_type": "code",
   "execution_count": 2,
   "metadata": {},
   "outputs": [],
   "source": [
    "#get list of paths\n",
    "paths = list(DataPath.iterate(data_dir, filters = None, annotation_name= None)) #might have to change kwargs"
   ]
  },
  {
   "cell_type": "code",
   "execution_count": 3,
   "metadata": {},
   "outputs": [
    {
     "data": {
      "application/vnd.jupyter.widget-view+json": {
       "model_id": "5594aa6b342f4d0aba5e4842fab428f7",
       "version_major": 2,
       "version_minor": 0
      },
      "text/plain": [
       "Output()"
      ]
     },
     "metadata": {},
     "output_type": "display_data"
    },
    {
     "data": {
      "text/html": [
       "<pre style=\"white-space:pre;overflow-x:auto;line-height:normal;font-family:Menlo,'DejaVu Sans Mono',consolas,'Courier New',monospace\"></pre>\n"
      ],
      "text/plain": []
     },
     "metadata": {},
     "output_type": "display_data"
    },
    {
     "data": {
      "text/html": [
       "<pre style=\"white-space:pre;overflow-x:auto;line-height:normal;font-family:Menlo,'DejaVu Sans Mono',consolas,'Courier New',monospace\">\n",
       "</pre>\n"
      ],
      "text/plain": [
       "\n"
      ]
     },
     "metadata": {},
     "output_type": "display_data"
    },
    {
     "ename": "ValueError",
     "evalue": "Cannot find spatial_shape in the dataset settings\nself.settings_path = None\nsettings_paths_exists = False\nself.data = {}\nself._data = {}",
     "output_type": "error",
     "traceback": [
      "\u001b[0;31m---------------------------------------------------------------------------\u001b[0m",
      "\u001b[0;31mRemoteTraceback\u001b[0m                           Traceback (most recent call last)",
      "\u001b[0;31mRemoteTraceback\u001b[0m: \n\"\"\"\nTraceback (most recent call last):\n  File \"/home/lucas/miniconda3/envs/htc-dev/lib/python3.11/multiprocessing/pool.py\", line 125, in worker\n    result = (True, func(*args, **kwds))\n                    ^^^^^^^^^^^^^^^^^^^\n  File \"/home/lucas/miniconda3/envs/htc-dev/lib/python3.11/multiprocessing/pool.py\", line 51, in starmapstar\n    return list(itertools.starmap(args[0], args[1]))\n           ^^^^^^^^^^^^^^^^^^^^^^^^^^^^^^^^^^^^^^^^^\n  File \"/home/lucas/dkfz/htc/htc/data_processing/run_l1_normalization.py\", line 40, in compute\n    sample = self.dataset[i]\n             ~~~~~~~~~~~~^^^\n  File \"/home/lucas/dkfz/htc/htc/models/image/DatasetImage.py\", line 63, in __getitem__\n    sample = self.read_experiment(self.paths[index], start_pointers=start_pointers)\n             ^^^^^^^^^^^^^^^^^^^^^^^^^^^^^^^^^^^^^^^^^^^^^^^^^^^^^^^^^^^^^^^^^^^^^^\n  File \"/home/lucas/dkfz/htc/htc/models/common/HTCDataset.py\", line 285, in read_experiment\n    assert spatial_shape == path.dataset_settings[\"spatial_shape\"], (\n                            ~~~~~~~~~~~~~~~~~~~~~^^^^^^^^^^^^^^^^^\n  File \"/home/lucas/dkfz/htc/htc/tivita/DatasetSettings.py\", line 69, in __getitem__\n    raise ValueError(\nValueError: Cannot find spatial_shape in the dataset settings\nself.settings_path = None\nsettings_paths_exists = False\nself.data = {}\nself._data = {}\n\"\"\"",
      "\nThe above exception was the direct cause of the following exception:\n",
      "\u001b[0;31mValueError\u001b[0m                                Traceback (most recent call last)",
      "\u001b[1;32m/home/lucas/dkfz/htc/tutorials/Atlas_tutorials/Generate_Intermediates.ipynb Cell 5\u001b[0m line \u001b[0;36m4\n\u001b[1;32m      <a href='vscode-notebook-cell://wsl%2Bubuntu/home/lucas/dkfz/htc/tutorials/Atlas_tutorials/Generate_Intermediates.ipynb#W4sdnNjb2RlLXJlbW90ZQ%3D%3D?line=0'>1</a>\u001b[0m \u001b[39m#create l1 norm .blosc files\u001b[39;00m\n\u001b[1;32m      <a href='vscode-notebook-cell://wsl%2Bubuntu/home/lucas/dkfz/htc/tutorials/Atlas_tutorials/Generate_Intermediates.ipynb#W4sdnNjb2RlLXJlbW90ZQ%3D%3D?line=1'>2</a>\u001b[0m L1Normalization(\n\u001b[1;32m      <a href='vscode-notebook-cell://wsl%2Bubuntu/home/lucas/dkfz/htc/tutorials/Atlas_tutorials/Generate_Intermediates.ipynb#W4sdnNjb2RlLXJlbW90ZQ%3D%3D?line=2'>3</a>\u001b[0m         paths\u001b[39m=\u001b[39;49mpaths, file_type\u001b[39m=\u001b[39;49m\u001b[39m\"\u001b[39;49m\u001b[39mblosc\u001b[39;49m\u001b[39m\"\u001b[39;49m, output_dir\u001b[39m=\u001b[39;49m(output_dir\u001b[39m/\u001b[39;49m \u001b[39m\"\u001b[39;49m\u001b[39mpreprocessing\u001b[39;49m\u001b[39m\"\u001b[39;49m), regenerate\u001b[39m=\u001b[39;49m \u001b[39mFalse\u001b[39;49;00m\n\u001b[0;32m----> <a href='vscode-notebook-cell://wsl%2Bubuntu/home/lucas/dkfz/htc/tutorials/Atlas_tutorials/Generate_Intermediates.ipynb#W4sdnNjb2RlLXJlbW90ZQ%3D%3D?line=3'>4</a>\u001b[0m     )\u001b[39m.\u001b[39;49mrun()\n",
      "File \u001b[0;32m~/dkfz/htc/htc/data_processing/DatasetIteration.py:22\u001b[0m, in \u001b[0;36mDatasetIteration.run\u001b[0;34m(self, **p_map_kwargs)\u001b[0m\n\u001b[1;32m     20\u001b[0m \u001b[39mdef\u001b[39;00m \u001b[39mrun\u001b[39m(\u001b[39mself\u001b[39m, \u001b[39m*\u001b[39m\u001b[39m*\u001b[39mp_map_kwargs) \u001b[39m-\u001b[39m\u001b[39m>\u001b[39m Any:\n\u001b[1;32m     21\u001b[0m     indices \u001b[39m=\u001b[39m \u001b[39mlist\u001b[39m(\u001b[39mrange\u001b[39m(\u001b[39mlen\u001b[39m(\u001b[39mself\u001b[39m\u001b[39m.\u001b[39mpaths)))\n\u001b[0;32m---> 22\u001b[0m     results \u001b[39m=\u001b[39m p_map(\u001b[39mself\u001b[39;49m\u001b[39m.\u001b[39;49mcompute, indices, task_name\u001b[39m=\u001b[39;49m\u001b[39mself\u001b[39;49m\u001b[39m.\u001b[39;49m\u001b[39m__class__\u001b[39;49m\u001b[39m.\u001b[39;49m\u001b[39m__name__\u001b[39;49m, \u001b[39m*\u001b[39;49m\u001b[39m*\u001b[39;49mp_map_kwargs)\n\u001b[1;32m     24\u001b[0m     \u001b[39mself\u001b[39m\u001b[39m.\u001b[39mfinished(results)\n",
      "File \u001b[0;32m~/dkfz/htc/htc/utils/parallel.py:97\u001b[0m, in \u001b[0;36mp_map\u001b[0;34m(*args, **kwargs)\u001b[0m\n\u001b[1;32m     95\u001b[0m \u001b[39mdef\u001b[39;00m \u001b[39mp_map\u001b[39m(\u001b[39m*\u001b[39margs, \u001b[39m*\u001b[39m\u001b[39m*\u001b[39mkwargs) \u001b[39m-\u001b[39m\u001b[39m>\u001b[39m \u001b[39mlist\u001b[39m:\n\u001b[1;32m     96\u001b[0m \u001b[39m    \u001b[39m\u001b[39m\"\"\"Similar to p_imap but all results are returned as a list (instead of using a generator).\"\"\"\u001b[39;00m\n\u001b[0;32m---> 97\u001b[0m     \u001b[39mreturn\u001b[39;00m \u001b[39mlist\u001b[39;49m(p_imap(\u001b[39m*\u001b[39;49margs, \u001b[39m*\u001b[39;49m\u001b[39m*\u001b[39;49mkwargs))\n",
      "File \u001b[0;32m~/dkfz/htc/htc/utils/parallel.py:84\u001b[0m, in \u001b[0;36mp_imap\u001b[0;34m(func, num_cpus, task_name, hide_progressbar, use_threads, *iterables)\u001b[0m\n\u001b[1;32m     81\u001b[0m task_id \u001b[39m=\u001b[39m progress\u001b[39m.\u001b[39madd_task(\u001b[39mf\u001b[39m\u001b[39m\"\u001b[39m\u001b[39m[cyan]\u001b[39m\u001b[39m{\u001b[39;00mtask_name\u001b[39m}\u001b[39;00m\u001b[39m[/]\u001b[39m\u001b[39m\"\u001b[39m, total\u001b[39m=\u001b[39m\u001b[39mnext\u001b[39m(\u001b[39miter\u001b[39m(iterable_lengths)))\n\u001b[1;32m     83\u001b[0m pool \u001b[39m=\u001b[39m mpp\u001b[39m.\u001b[39mThreadPool(num_cpus) \u001b[39mif\u001b[39;00m use_threads \u001b[39melse\u001b[39;00m mpp\u001b[39m.\u001b[39mPool(num_cpus)\n\u001b[0;32m---> 84\u001b[0m \u001b[39mfor\u001b[39;49;00m item \u001b[39min\u001b[39;49;00m istarmap(pool, func, \u001b[39mzip\u001b[39;49m(\u001b[39m*\u001b[39;49miterables)):\n\u001b[1;32m     85\u001b[0m     progress\u001b[39m.\u001b[39;49madvance(task_id)\n\u001b[1;32m     86\u001b[0m     \u001b[39myield\u001b[39;49;00m item\n",
      "File \u001b[0;32m~/dkfz/htc/htc/utils/parallel.py:34\u001b[0m, in \u001b[0;36m<genexpr>\u001b[0;34m(.0)\u001b[0m\n\u001b[1;32m     31\u001b[0m result \u001b[39m=\u001b[39m mpp\u001b[39m.\u001b[39mIMapIterator(pool)\n\u001b[1;32m     32\u001b[0m pool\u001b[39m.\u001b[39m_taskqueue\u001b[39m.\u001b[39mput((pool\u001b[39m.\u001b[39m_guarded_task_generation(result\u001b[39m.\u001b[39m_job, mpp\u001b[39m.\u001b[39mstarmapstar, task_batches), result\u001b[39m.\u001b[39m_set_length))\n\u001b[0;32m---> 34\u001b[0m \u001b[39mreturn\u001b[39;00m (item \u001b[39mfor\u001b[39;49;00m chunk \u001b[39min\u001b[39;49;00m result \u001b[39mfor\u001b[39;49;00m item \u001b[39min\u001b[39;49;00m chunk)\n",
      "File \u001b[0;32m~/miniconda3/envs/htc-dev/lib/python3.11/multiprocessing/pool.py:873\u001b[0m, in \u001b[0;36mIMapIterator.next\u001b[0;34m(self, timeout)\u001b[0m\n\u001b[1;32m    871\u001b[0m \u001b[39mif\u001b[39;00m success:\n\u001b[1;32m    872\u001b[0m     \u001b[39mreturn\u001b[39;00m value\n\u001b[0;32m--> 873\u001b[0m \u001b[39mraise\u001b[39;00m value\n",
      "\u001b[0;31mValueError\u001b[0m: Cannot find spatial_shape in the dataset settings\nself.settings_path = None\nsettings_paths_exists = False\nself.data = {}\nself._data = {}"
     ]
    }
   ],
   "source": [
    "#create l1 norm .blosc files\n",
    "L1Normalization(\n",
    "        paths=paths, file_type=\"blosc\", output_dir=(output_dir/ \"preprocessing\"), regenerate= False\n",
    "    ).run()"
   ]
  },
  {
   "cell_type": "code",
   "execution_count": null,
   "metadata": {},
   "outputs": [],
   "source": [
    "#create meta tables\n",
    "dataset_name = data_dir.parent.name\n",
    "tables_dir = output_dir / \"tables\"\n",
    "tables_dir.mkdir(parents=True, exist_ok=True)\n",
    "meta_dataframe = generate_metadata_table(paths)\n",
    "meta_dataframe.to_csv(output_dir/f\"tables/{dataset_name}@meta.csv\")\n",
    "meta_dataframe.to_feather(output_dir/f\"tables/{dataset_name}@meta.feather\")\n"
   ]
  },
  {
   "cell_type": "code",
   "execution_count": null,
   "metadata": {},
   "outputs": [],
   "source": [
    "#create segmentations blosc\n",
    "#stuck here, because I dont understand how label mapping works or where to do that."
   ]
  },
  {
   "cell_type": "code",
   "execution_count": null,
   "metadata": {},
   "outputs": [],
   "source": []
  }
 ],
 "metadata": {
  "kernelspec": {
   "display_name": "htc-dev",
   "language": "python",
   "name": "python3"
  },
  "language_info": {
   "codemirror_mode": {
    "name": "ipython",
    "version": 3
   },
   "file_extension": ".py",
   "mimetype": "text/x-python",
   "name": "python",
   "nbconvert_exporter": "python",
   "pygments_lexer": "ipython3",
   "version": "3.11.9"
  }
 },
 "nbformat": 4,
 "nbformat_minor": 2
}
