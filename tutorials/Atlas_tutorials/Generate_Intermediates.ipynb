{
 "cells": [
  {
   "cell_type": "markdown",
   "metadata": {},
   "source": [
    "notebook to read blosc files from intermediates"
   ]
  },
  {
   "cell_type": "code",
   "execution_count": 30,
   "metadata": {},
   "outputs": [],
   "source": [
    "#start with same process as the training notebook\n",
    "from pathlib import Path\n",
    "\n",
    "import json\n",
    "import matplotlib.pyplot as plt\n",
    "import pandas as pd\n",
    "from IPython.display import JSON\n",
    "from typing import TYPE_CHECKING, Any, Callable, Union, Self\n",
    "from htc import decompress_file, read_meta_file, read_tivita_hsi, settings\n",
    "from htc.tivita.DataPath import DataPath\n",
    "from htc import settings\n",
    "from htc.tivita.metadata import generate_metadata_table\n",
    "from htc.utils.blosc_compression import decompress_file\n",
    "#secific preprocessing files\n",
    "from htc.data_processing.run_l1_normalization import L1Normalization\n",
    "import matplotlib.colors as mcolors\n",
    "\n",
    "\n",
    "\n",
    "data_dir = settings.data_dirs.uro\n",
    "external_dir = settings.intermediates_dirs['PATH_HTC_EXTERNAL']"
   ]
  },
  {
   "cell_type": "code",
   "execution_count": null,
   "metadata": {},
   "outputs": [],
   "source": []
  },
  {
   "cell_type": "code",
   "execution_count": 31,
   "metadata": {},
   "outputs": [
    {
     "name": "stdout",
     "output_type": "stream",
     "text": [
      "print statement in datapath.iterate:\n",
      "Network directory: (not set)\n",
      "Registered data directories:\n",
      "- settings.data_dirs.external\n",
      "    * full name: external\n",
      "    * environment name: PATH_HTC_EXTERNAL\n",
      "    * location: local\n",
      "external directory found\n"
     ]
    }
   ],
   "source": [
    "#get list of paths\n",
    "paths = list(DataPath.iterate(data_dir, filters = None, annotation_name= None)) #might have to change kwargs"
   ]
  },
  {
   "cell_type": "code",
   "execution_count": 37,
   "metadata": {},
   "outputs": [
    {
     "name": "stdout",
     "output_type": "stream",
     "text": [
      "1\n",
      "[[255 255 255 ... 255 255 255]\n",
      " [255 255 255 ... 255 255 255]\n",
      " [255 255 255 ... 255 255 255]\n",
      " ...\n",
      " [255 255 255 ... 255 255 255]\n",
      " [255 255 255 ... 255 255 255]\n",
      " [255 255 255 ... 255 255 255]]\n"
     ]
    },
    {
     "data": {
      "text/plain": [
       "<function matplotlib.pyplot.show(close=None, block=None)>"
      ]
     },
     "execution_count": 37,
     "metadata": {},
     "output_type": "execute_result"
    },
    {
     "data": {
      "image/png": "[encoded data removed]",
      "text/plain": [
       "<Figure size 640x480 with 1 Axes>"
      ]
     },
     "metadata": {},
     "output_type": "display_data"
    }
   ],
   "source": [
    "compressed = external_dir / 'segmentations/P091_OP055_2021_04_24_Experiment1#2021_04_24_11_57_37.blosc'\n",
    "decompressed = decompress_file(compressed)\n",
    "print(len(decompressed))\n",
    "print(decompressed['polygon#annotator1'])\n",
    "cmap = mcolors.ListedColormap(['white', 'blue', 'black'])\n",
    "\n",
    "# Define the bounds and normalization\n",
    "bounds = [0, 0.9, 2, 256]\n",
    "norm = mcolors.BoundaryNorm(bounds, cmap.N)\n",
    "\n",
    "\n",
    "plt.imshow( decompressed['polygon#annotator1'], cmap=cmap, norm=norm,)\n",
    "plt.show\n"
   ]
  },
  {
   "cell_type": "code",
   "execution_count": 33,
   "metadata": {},
   "outputs": [
    {
     "name": "stdout",
     "output_type": "stream",
     "text": [
      "Unique elements in array1 (Annotator 1 Colon): {0, 1, 255}\n"
     ]
    }
   ],
   "source": [
    "array1 = decompressed['polygon#annotator1']\n",
    "\n",
    "unique_elements_array1 = set(array1.flatten())\n",
    "print(\"Unique elements in array1 (Annotator 1 Colon):\", unique_elements_array1)"
   ]
  }
 ],
 "metadata": {
  "kernelspec": {
   "display_name": "htc-dev",
   "language": "python",
   "name": "python3"
  },
  "language_info": {
   "codemirror_mode": {
    "name": "ipython",
    "version": 3
   },
   "file_extension": ".py",
   "mimetype": "text/x-python",
   "name": "python",
   "nbconvert_exporter": "python",
   "pygments_lexer": "ipython3",
   "version": "3.11.9"
  }
 },
 "nbformat": 4,
 "nbformat_minor": 2
}
