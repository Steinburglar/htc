{
 "cells": [
  {
   "cell_type": "markdown",
   "id": "88283e85-2a29-4816-b5ec-a8d15613eb1c",
   "metadata": {},
   "source": [
    "# Creating Predictions\n",
    "If you have some HSI images and want to get predictions from one of our pretrained models (or your own models), then we covered you in this notebook. Predictions can be computed based on a folder with HSI images and the `htc inference` command."
   ]
  },
  {
   "cell_type": "code",
   "execution_count": 1,
   "id": "f50cc1a7-971b-40cd-ba89-43c2835257e2",
   "metadata": {},
   "outputs": [
    {
     "data": {
      "text/html": [
       "<pre style=\"white-space:pre;overflow-x:auto;line-height:normal;font-family:Menlo,'DejaVu Sans Mono',consolas,'Courier New',monospace\"><span style=\"font-weight: bold\">[</span><span style=\"color: #808000; text-decoration-color: #808000\">WARNING</span><span style=\"font-weight: bold\">][</span><span style=\"font-style: italic\">dotenv.main</span><span style=\"font-weight: bold\">]</span> Python-dotenv could not parse statement starting at line <span style=\"color: #afafaf; text-decoration-color: #afafaf\">6</span>                             <span style=\"color: #7f7f7f; text-decoration-color: #7f7f7f\">main.py:28</span>\n",
       "</pre>\n"
      ],
      "text/plain": [
       "\u001b[1m[\u001b[0m\u001b[33mWARNING\u001b[0m\u001b[1m]\u001b[0m\u001b[1m[\u001b[0m\u001b[3mdotenv.main\u001b[0m\u001b[1m]\u001b[0m Python-dotenv could not parse statement starting at line \u001b[38;5;145m6\u001b[0m                             \u001b[2mmain.py:28\u001b[0m\n"
      ]
     },
     "metadata": {},
     "output_type": "display_data"
    }
   ],
   "source": [
    "%load_ext autoreload\n",
    "%autoreload 2\n",
    "import numpy as np\n",
    "\n",
    "from htc import Config, LabelMapping, decompress_file, settings"
   ]
  },
  {
   "cell_type": "code",
   "execution_count": 2,
   "id": "e04bfa34-330b-47f7-b032-290db9e4383f",
   "metadata": {},
   "outputs": [
    {
     "name": "stdout",
     "output_type": "stream",
     "text": [
      "None\n"
     ]
    }
   ],
   "source": [
    "data_dir = settings.data_dirs.test_dataset28may\n",
    "output_dir = settings.results_dir/ \"predictions\"\n",
    "data_dir\n",
    "settings.results_dir\n",
    "data_dir\n",
    "print(settings._external)"
   ]
  },
  {
   "cell_type": "markdown",
   "id": "c88c10e8-cca8-46f9-91e1-3a9f02d55103",
   "metadata": {},
   "source": [
    "> Note: If you want to use your own data and it does not fit into the default structure (e.g. because you have non-Tivita images), they you need to write your [own DataPath class](./CustomDataPath.md) first."
   ]
  },
  {
   "cell_type": "code",
   "execution_count": 4,
   "id": "d1997912-0a42-45e2-b170-d2774a4069ba",
   "metadata": {},
   "outputs": [
    {
     "name": "stdout",
     "output_type": "stream",
     "text": [
      "SHELL=/bin/bash\n",
      "PYTHONUNBUFFERED=1\n",
      "WSL2_GUI_APPS_ENABLED=1\n",
      "CONDA_EXE=/home/lucas/miniconda3/bin/conda\n",
      "_CE_M=\n",
      "WSL_DISTRO_NAME=Ubuntu\n",
      "WT_SESSION=f6adf399-41d2-4515-b707-e5a7b91a6e34\n",
      "ELECTRON_RUN_AS_NODE=1\n",
      "HOMEBREW_PREFIX=/home/linuxbrew/.linuxbrew\n",
      "VSCODE_AMD_ENTRYPOINT=vs/workbench/api/node/extensionHostProcess\n",
      "PATH_Tivita_HeiPorSPECTRAL_example=~/dkfz/htc/tests/test_28may/HeiPorSPECTRAL_example:shortcut=test_dataset28may\n",
      "NAME=Code\n",
      "PWD=/home/lucas/dkfz/htc/tutorials\n",
      "LOGNAME=lucas\n",
      "CONDA_ROOT=/home/lucas/miniconda3\n",
      "CONDA_PREFIX=/home/lucas/miniconda3/envs/htc-dev\n",
      "MANPATH=/home/linuxbrew/.linuxbrew/share/man:\n",
      "PYDEVD_IPYTHON_COMPATIBLE_DEBUGGING=1\n",
      "_=/usr/bin/env\n",
      "PLOTLY_RENDERER=plotly_mimetype+notebook_connected\n",
      "MOTD_SHOWN=update-motd\n",
      "HOME=/home/lucas\n",
      "LANG=C.UTF-8\n",
      "WSL_INTEROP=/run/WSL/599_interop\n",
      "LS_COLORS=rs=0:di=01;34:ln=01;36:mh=00:pi=40;33:so=01;35:do=01;35:bd=40;33;01:cd=40;33;01:or=40;31;01:mi=00:su=37;41:sg=30;43:ca=30;41:tw=30;42:ow=34;42:st=37;44:ex=01;32:*.tar=01;31:*.tgz=01;31:*.arc=01;31:*.arj=01;31:*.taz=01;31:*.lha=01;31:*.lz4=01;31:*.lzh=01;31:*.lzma=01;31:*.tlz=01;31:*.txz=01;31:*.tzo=01;31:*.t7z=01;31:*.zip=01;31:*.z=01;31:*.dz=01;31:*.gz=01;31:*.lrz=01;31:*.lz=01;31:*.lzo=01;31:*.xz=01;31:*.zst=01;31:*.tzst=01;31:*.bz2=01;31:*.bz=01;31:*.tbz=01;31:*.tbz2=01;31:*.tz=01;31:*.deb=01;31:*.rpm=01;31:*.jar=01;31:*.war=01;31:*.ear=01;31:*.sar=01;31:*.rar=01;31:*.alz=01;31:*.ace=01;31:*.zoo=01;31:*.cpio=01;31:*.7z=01;31:*.rz=01;31:*.cab=01;31:*.wim=01;31:*.swm=01;31:*.dwm=01;31:*.esd=01;31:*.jpg=01;35:*.jpeg=01;35:*.mjpg=01;35:*.mjpeg=01;35:*.gif=01;35:*.bmp=01;35:*.pbm=01;35:*.pgm=01;35:*.ppm=01;35:*.tga=01;35:*.xbm=01;35:*.xpm=01;35:*.tif=01;35:*.tiff=01;35:*.png=01;35:*.svg=01;35:*.svgz=01;35:*.mng=01;35:*.pcx=01;35:*.mov=01;35:*.mpg=01;35:*.mpeg=01;35:*.m2v=01;35:*.mkv=01;35:*.webm=01;35:*.webp=01;35:*.ogm=01;35:*.mp4=01;35:*.m4v=01;35:*.mp4v=01;35:*.vob=01;35:*.qt=01;35:*.nuv=01;35:*.wmv=01;35:*.asf=01;35:*.rm=01;35:*.rmvb=01;35:*.flc=01;35:*.avi=01;35:*.fli=01;35:*.flv=01;35:*.gl=01;35:*.dl=01;35:*.xcf=01;35:*.xwd=01;35:*.yuv=01;35:*.cgm=01;35:*.emf=01;35:*.ogv=01;35:*.ogx=01;35:*.aac=00;36:*.au=00;36:*.flac=00;36:*.m4a=00;36:*.mid=00;36:*.midi=00;36:*.mka=00;36:*.mp3=00;36:*.mpc=00;36:*.ogg=00;36:*.ra=00;36:*.wav=00;36:*.oga=00;36:*.opus=00;36:*.spx=00;36:*.xspf=00;36:\n",
      "WAYLAND_DISPLAY=wayland-0\n",
      "FORCE_COLOR=1\n",
      "CONDA_PROMPT_MODIFIER=(htc-dev) \n",
      "PYDEVD_USE_FRAME_EVAL=NO\n",
      "CLICOLOR=1\n",
      "VSCODE_L10N_BUNDLE_LOCATION=\n",
      "CLICOLOR_FORCE=1\n",
      "HOMEBREW_NO_AUTO_UPDATE=1\n",
      "INFOPATH=/home/linuxbrew/.linuxbrew/share/info:\n",
      "LESSCLOSE=/usr/bin/lesspipe %s %s\n",
      "VSCODE_HANDLES_SIGPIPE=true\n",
      "TERM=xterm-color\n",
      "_CE_CONDA=\n",
      "LESSOPEN=| /usr/bin/lesspipe %s\n",
      "USER=lucas\n",
      "GIT_PAGER=cat\n",
      "PYTHONIOENCODING=utf-8\n",
      "HOMEBREW_CELLAR=/home/linuxbrew/.linuxbrew/Cellar\n",
      "CONDA_SHLVL=4\n",
      "DISPLAY=:0\n",
      "SHLVL=2\n",
      "PAGER=cat\n",
      "HOMEBREW_REPOSITORY=/home/linuxbrew/.linuxbrew/Homebrew\n",
      "VSCODE_CWD=/mnt/c/Users/Moxie/AppData/Local/Programs/Microsoft VS Code\n",
      "PATH_HTC_RESULTS=~/dkfz/htc/tests/test_28may/test_results28may\n",
      "MPLBACKEND=module://matplotlib_inline.backend_inline\n",
      "CONDA_PYTHON_EXE=/home/lucas/miniconda3/bin/python\n",
      "XDG_RUNTIME_DIR=/run/user/1000/\n",
      "CONDA_DEFAULT_ENV=htc-dev\n",
      "WSLENV=ELECTRON_RUN_AS_NODE/w:WT_SESSION:WT_PROFILE_ID:\n",
      "\n",
      "VSCODE_WSL_EXT_LOCATION=/mnt/c/Users/Moxie/.vscode/extensions/ms-vscode-remote.remote-wsl-0.81.9\n",
      "XDG_DATA_DIRS=/usr/local/share:/usr/share:/var/lib/snapd/desktop\n",
      "PATH=/home/lucas/miniconda3/envs/htc-dev/bin:/home/lucas/.local/bin:/home/lucas/miniconda3/envs/htc-dev/bin:/home/lucas/miniconda3/condabin:/home/linuxbrew/.linuxbrew/bin:/home/linuxbrew/.linuxbrew/sbin:/usr/local/sbin:/usr/local/bin:/usr/sbin:/usr/bin:/sbin:/bin:/usr/games:/usr/local/games:/usr/lib/wsl/lib:/mnt/c/Windows/system32:/mnt/c/Windows:/mnt/c/Windows/System32/Wbem:/mnt/c/Windows/System32/WindowsPowerShell/v1.0:/mnt/c/Windows/System32/OpenSSH:/mnt/c/Program Files (x86)/NVIDIA Corporation/PhysX/Common:/mnt/c/Program Files/NVIDIA Corporation/NVIDIA NvDLISR:/mnt/c/WINDOWS/system32:/mnt/c/WINDOWS:/mnt/c/WINDOWS/System32/Wbem:/mnt/c/WINDOWS/System32/WindowsPowerShell/v1.0:/mnt/c/WINDOWS/System32/OpenSSH:/mnt/c/Program Files/dotnet:/mnt/c/Program Files/Git/cmd:/mnt/c/Program Files/Wolfram Research/WolframScript:/mnt/c/Users/Moxie/AppData/Local/Microsoft/WindowsApps:/mnt/c/Users/Moxie/AppData/Local/GitHubDesktop/bin:/mnt/c/Users/Moxie/AppData/Local/Programs/Microsoft VS Code/bin:/snap/bin\n",
      "DBUS_SESSION_BUS_ADDRESS=unix:path=/run/user/1000/bus\n",
      "VSCODE_NLS_CONFIG={\"locale\":\"en\",\"osLocale\":\"en\",\"availableLanguages\":{}}\n",
      "HOSTTYPE=x86_64\n",
      "PATH_Tivita_HeiPorSPECTRAL_example_mod=~/dkfz/htc/tests/test_11jun/HeiPorSPECTRAL_example_mod:shortcut=test_dataset11june\n",
      "CONDA_PREFIX_1=/home/lucas/miniconda3\n",
      "CONDA_PREFIX_2=/home/lucas/miniconda3/envs/htc-dev\n",
      "CONDA_PREFIX_3=/home/lucas/miniconda3\n",
      "PULSE_SERVER=unix:/mnt/wslg/PulseServer\n",
      "WT_PROFILE_ID={51855cb2-8cce-5362-8f54-464b92b32386}\n",
      "VSCODE_HANDLES_UNCAUGHT_ERRORS=true\n",
      "VSCODE_IPC_HOOK_CLI=/run/user/1000/vscode-ipc-d2ab0036-0a65-432d-a946-4392c0f45560.sock\n",
      "\u001b[1m[\u001b[0m\u001b[33mWARNING\u001b[0m\u001b[1m]\u001b[0m\u001b[1m[\u001b[0m\u001b[3mdotenv.main\u001b[0m\u001b[1m]\u001b[0m Python-dotenv could not parse statement        \u001b[2mmain.py:28\u001b[0m\n",
      "starting at line \u001b[37m6\u001b[0m                                                    \u001b[2m          \u001b[0m\n",
      "\u001b[1m[\u001b[0m\u001b[33mWARNING\u001b[0m\u001b[1m]\u001b[0m\u001b[1m[\u001b[0m\u001b[3mdotenv.main\u001b[0m\u001b[1m]\u001b[0m Python-dotenv could not parse statement        \u001b[2mmain.py:28\u001b[0m\n",
      "starting at line \u001b[37m6\u001b[0m                                                    \u001b[2m          \u001b[0m\n",
      "print statement in datapath.iterate:\n",
      "None\n",
      "\u001b[1m[\u001b[0m\u001b[32mINFO\u001b[0m\u001b[1m]\u001b[0m\u001b[1m[\u001b[0m\u001b[3mhtc\u001b[0m\u001b[1m]\u001b[0m Compute the prediction for \u001b[37m1\u001b[0m images              \u001b[2mrun_inference.py:70\u001b[0m\n",
      "\u001b[1m[\u001b[0m\u001b[32mINFO\u001b[0m\u001b[1m]\u001b[0m\u001b[1m[\u001b[0m\u001b[3mhtc.no_duplicates\u001b[0m\u001b[1m]\u001b[0m Found pretrained run in the local hub  \u001b[2mHTCModel.py:484\u001b[0m\n",
      "dir at                                                           \u001b[2m               \u001b[0m\n",
      "\u001b[35m/home/lucas/.cache/torch/hub/htc_checkpoints/image/\u001b[0m\u001b[95m2022-02-03_22\u001b[0m \u001b[2m               \u001b[0m\n",
      "\u001b[95m-58-44_generated_default_model_comparison\u001b[0m                        \u001b[2m               \u001b[0m\n",
      "INFO: Lightning automatically upgraded your loaded checkpoint from v1.5.8 to v2.2.5. To apply the upgrade to your files permanently, run `python -m lightning.pytorch.utilities.upgrade_checkpoint ../../../.cache/torch/hub/htc_checkpoints/image/2022-02-03_22-58-44_generated_default_model_comparison/fold_P041,P060,P069/epoch=46-dice_metric=0.87.ckpt`\n",
      "\u001b[1m[\u001b[0m\u001b[32mINFO\u001b[0m\u001b[1m]\u001b[0m\u001b[1m[\u001b[0m\u001b[3mlightning.pytorch.utilities.migration.utils\u001b[0m\u001b[1m]\u001b[0m Lightning       \u001b[2mutils.py:154\u001b[0m\n",
      "automatically upgraded your loaded checkpoint from v1.\u001b[37m5.8\u001b[0m to        \u001b[2m            \u001b[0m\n",
      "v2.\u001b[37m2.5\u001b[0m. To apply the upgrade to your files permanently, run `python \u001b[2m            \u001b[0m\n",
      "-m lightning.pytorch.utilities.upgrade_checkpoint                   \u001b[2m            \u001b[0m\n",
      "..\u001b[35m/../../.cache/torch/hub/htc_checkpoints/image/2022-02-03_22-58-44\u001b[0m \u001b[2m            \u001b[0m\n",
      "\u001b[35m_generated_default_model_comparison/\u001b[0m\u001b[95mfold_P041\u001b[0m,P060,P069/\u001b[33mepoch\u001b[0m=\u001b[37m46\u001b[0m-\u001b[33mdi\u001b[0m \u001b[2m            \u001b[0m\n",
      "\u001b[33mce_metric\u001b[0m=\u001b[37m0\u001b[0m\u001b[37m.87\u001b[0m.ckpt`                                                \u001b[2m            \u001b[0m\n",
      "INFO: Lightning automatically upgraded your loaded checkpoint from v1.5.8 to v2.2.5. To apply the upgrade to your files permanently, run `python -m lightning.pytorch.utilities.upgrade_checkpoint ../../../.cache/torch/hub/htc_checkpoints/image/2022-02-03_22-58-44_generated_default_model_comparison/fold_P044,P050,P059/epoch=70-dice_metric=0.90.ckpt`\n",
      "\u001b[1m[\u001b[0m\u001b[32mINFO\u001b[0m\u001b[1m]\u001b[0m\u001b[1m[\u001b[0m\u001b[3mlightning.pytorch.utilities.migration.utils\u001b[0m\u001b[1m]\u001b[0m Lightning       \u001b[2mutils.py:154\u001b[0m\n",
      "automatically upgraded your loaded checkpoint from v1.\u001b[37m5.8\u001b[0m to        \u001b[2m            \u001b[0m\n",
      "v2.\u001b[37m2.5\u001b[0m. To apply the upgrade to your files permanently, run `python \u001b[2m            \u001b[0m\n",
      "-m lightning.pytorch.utilities.upgrade_checkpoint                   \u001b[2m            \u001b[0m\n",
      "..\u001b[35m/../../.cache/torch/hub/htc_checkpoints/image/2022-02-03_22-58-44\u001b[0m \u001b[2m            \u001b[0m\n",
      "\u001b[35m_generated_default_model_comparison/\u001b[0m\u001b[95mfold_P044\u001b[0m,P050,P059/\u001b[33mepoch\u001b[0m=\u001b[37m70\u001b[0m-\u001b[33mdi\u001b[0m \u001b[2m            \u001b[0m\n",
      "\u001b[33mce_metric\u001b[0m=\u001b[37m0\u001b[0m\u001b[37m.90\u001b[0m.ckpt`                                                \u001b[2m            \u001b[0m\n",
      "INFO: Lightning automatically upgraded your loaded checkpoint from v1.5.8 to v2.2.5. To apply the upgrade to your files permanently, run `python -m lightning.pytorch.utilities.upgrade_checkpoint ../../../.cache/torch/hub/htc_checkpoints/image/2022-02-03_22-58-44_generated_default_model_comparison/fold_P045,P061,P071/epoch=75-dice_metric=0.84.ckpt`\n",
      "\u001b[1m[\u001b[0m\u001b[32mINFO\u001b[0m\u001b[1m]\u001b[0m\u001b[1m[\u001b[0m\u001b[3mlightning.pytorch.utilities.migration.utils\u001b[0m\u001b[1m]\u001b[0m Lightning       \u001b[2mutils.py:154\u001b[0m\n",
      "automatically upgraded your loaded checkpoint from v1.\u001b[37m5.8\u001b[0m to        \u001b[2m            \u001b[0m\n",
      "v2.\u001b[37m2.5\u001b[0m. To apply the upgrade to your files permanently, run `python \u001b[2m            \u001b[0m\n",
      "-m lightning.pytorch.utilities.upgrade_checkpoint                   \u001b[2m            \u001b[0m\n",
      "..\u001b[35m/../../.cache/torch/hub/htc_checkpoints/image/2022-02-03_22-58-44\u001b[0m \u001b[2m            \u001b[0m\n",
      "\u001b[35m_generated_default_model_comparison/\u001b[0m\u001b[95mfold_P045\u001b[0m,P061,P071/\u001b[33mepoch\u001b[0m=\u001b[37m75\u001b[0m-\u001b[33mdi\u001b[0m \u001b[2m            \u001b[0m\n",
      "\u001b[33mce_metric\u001b[0m=\u001b[37m0\u001b[0m\u001b[37m.84\u001b[0m.ckpt`                                                \u001b[2m            \u001b[0m\n",
      "INFO: Lightning automatically upgraded your loaded checkpoint from v1.5.8 to v2.2.5. To apply the upgrade to your files permanently, run `python -m lightning.pytorch.utilities.upgrade_checkpoint ../../../.cache/torch/hub/htc_checkpoints/image/2022-02-03_22-58-44_generated_default_model_comparison/fold_P047,P049,P070/epoch=52-dice_metric=0.85.ckpt`\n",
      "\u001b[1m[\u001b[0m\u001b[32mINFO\u001b[0m\u001b[1m]\u001b[0m\u001b[1m[\u001b[0m\u001b[3mlightning.pytorch.utilities.migration.utils\u001b[0m\u001b[1m]\u001b[0m Lightning       \u001b[2mutils.py:154\u001b[0m\n",
      "automatically upgraded your loaded checkpoint from v1.\u001b[37m5.8\u001b[0m to        \u001b[2m            \u001b[0m\n",
      "v2.\u001b[37m2.5\u001b[0m. To apply the upgrade to your files permanently, run `python \u001b[2m            \u001b[0m\n",
      "-m lightning.pytorch.utilities.upgrade_checkpoint                   \u001b[2m            \u001b[0m\n",
      "..\u001b[35m/../../.cache/torch/hub/htc_checkpoints/image/2022-02-03_22-58-44\u001b[0m \u001b[2m            \u001b[0m\n",
      "\u001b[35m_generated_default_model_comparison/\u001b[0m\u001b[95mfold_P047\u001b[0m,P049,P070/\u001b[33mepoch\u001b[0m=\u001b[37m52\u001b[0m-\u001b[33mdi\u001b[0m \u001b[2m            \u001b[0m\n",
      "\u001b[33mce_metric\u001b[0m=\u001b[37m0\u001b[0m\u001b[37m.85\u001b[0m.ckpt`                                                \u001b[2m            \u001b[0m\n",
      "INFO: Lightning automatically upgraded your loaded checkpoint from v1.5.8 to v2.2.5. To apply the upgrade to your files permanently, run `python -m lightning.pytorch.utilities.upgrade_checkpoint ../../../.cache/torch/hub/htc_checkpoints/image/2022-02-03_22-58-44_generated_default_model_comparison/fold_P048,P057,P058/epoch=79-dice_metric=0.86.ckpt`\n",
      "\u001b[1m[\u001b[0m\u001b[32mINFO\u001b[0m\u001b[1m]\u001b[0m\u001b[1m[\u001b[0m\u001b[3mlightning.pytorch.utilities.migration.utils\u001b[0m\u001b[1m]\u001b[0m Lightning       \u001b[2mutils.py:154\u001b[0m\n",
      "automatically upgraded your loaded checkpoint from v1.\u001b[37m5.8\u001b[0m to        \u001b[2m            \u001b[0m\n",
      "v2.\u001b[37m2.5\u001b[0m. To apply the upgrade to your files permanently, run `python \u001b[2m            \u001b[0m\n",
      "-m lightning.pytorch.utilities.upgrade_checkpoint                   \u001b[2m            \u001b[0m\n",
      "..\u001b[35m/../../.cache/torch/hub/htc_checkpoints/image/2022-02-03_22-58-44\u001b[0m \u001b[2m            \u001b[0m\n",
      "\u001b[35m_generated_default_model_comparison/\u001b[0m\u001b[95mfold_P048\u001b[0m,P057,P058/\u001b[33mepoch\u001b[0m=\u001b[37m79\u001b[0m-\u001b[33mdi\u001b[0m \u001b[2m            \u001b[0m\n",
      "\u001b[33mce_metric\u001b[0m=\u001b[37m0\u001b[0m\u001b[37m.86\u001b[0m.ckpt`                                                \u001b[2m            \u001b[0m\n",
      "\u001b[2KDataloader \u001b[90m━━━━━━━━━━━━━━━━━━━━━━━━━━━━━━━━━━━━━━━━\u001b[0m \u001b[35m  0%\u001b[0m \u001b[36m-:--:--\u001b[0m \u001b[33m0:00:03\u001b[0m\u001b[1m[\u001b[0m\u001b[33mWARNING\u001b[0m\u001b[1m]\u001b[0m\u001b[1m[\u001b[0m\u001b[3mhtc\u001b[0m\u001b[1m]\u001b[0m Found \u001b[37m3315302400\u001b[0m nan values in the            \u001b[2mHTCLightning.py:145\u001b[0m\n",
      "predictions class \u001b[1m(\u001b[0mtensor.shape = \u001b[1;35mtorch.Size\u001b[0m\u001b[1m(\u001b[0m\u001b[1m[\u001b[0m\u001b[37m1\u001b[0m, \u001b[37m19\u001b[0m, \u001b[37m480\u001b[0m,    \u001b[2m                   \u001b[0m\n",
      "\u001b[37m640\u001b[0m\u001b[1m]\u001b[0m\u001b[1m)\u001b[0m\u001b[1m)\u001b[0m                                                       \u001b[2m                   \u001b[0m\n",
      "\u001b[2KDataloader \u001b[90m━━━━━━━━━━━━━━━━━━━━━━━━━━━━━━━━━━━━━━━━\u001b[0m \u001b[35m  0%\u001b[0m \u001b[36m-:--:--\u001b[0m \u001b[33m0:00:03\u001b[0m\u001b[1m[\u001b[0m\u001b[33mWARNING\u001b[0m\u001b[1m]\u001b[0m\u001b[1m[\u001b[0m\u001b[3mhtc\u001b[0m\u001b[1m]\u001b[0m Found \u001b[37m3315302400\u001b[0m nan values in the            \u001b[2mHTCLightning.py:145\u001b[0m\n",
      "predictions class \u001b[1m(\u001b[0mtensor.shape = \u001b[1;35mtorch.Size\u001b[0m\u001b[1m(\u001b[0m\u001b[1m[\u001b[0m\u001b[37m1\u001b[0m, \u001b[37m19\u001b[0m, \u001b[37m480\u001b[0m,    \u001b[2m                   \u001b[0m\n",
      "\u001b[37m640\u001b[0m\u001b[1m]\u001b[0m\u001b[1m)\u001b[0m\u001b[1m)\u001b[0m                                                       \u001b[2m                   \u001b[0m\n",
      "\u001b[2KDataloader \u001b[90m━━━━━━━━━━━━━━━━━━━━━━━━━━━━━━━━━━━━━━━━\u001b[0m \u001b[35m  0%\u001b[0m \u001b[36m-:--:--\u001b[0m \u001b[33m0:00:03\u001b[0m\u001b[1m[\u001b[0m\u001b[33mWARNING\u001b[0m\u001b[1m]\u001b[0m\u001b[1m[\u001b[0m\u001b[3mhtc\u001b[0m\u001b[1m]\u001b[0m Found \u001b[37m3315302400\u001b[0m nan values in the            \u001b[2mHTCLightning.py:145\u001b[0m\n",
      "predictions class \u001b[1m(\u001b[0mtensor.shape = \u001b[1;35mtorch.Size\u001b[0m\u001b[1m(\u001b[0m\u001b[1m[\u001b[0m\u001b[37m1\u001b[0m, \u001b[37m19\u001b[0m, \u001b[37m480\u001b[0m,    \u001b[2m                   \u001b[0m\n",
      "\u001b[37m640\u001b[0m\u001b[1m]\u001b[0m\u001b[1m)\u001b[0m\u001b[1m)\u001b[0m                                                       \u001b[2m                   \u001b[0m\n",
      "\u001b[2KDataloader \u001b[90m━━━━━━━━━━━━━━━━━━━━━━━━━━━━━━━━━━━━━━━━\u001b[0m \u001b[35m  0%\u001b[0m \u001b[36m-:--:--\u001b[0m \u001b[33m0:00:03\u001b[0m\u001b[1m[\u001b[0m\u001b[33mWARNING\u001b[0m\u001b[1m]\u001b[0m\u001b[1m[\u001b[0m\u001b[3mhtc\u001b[0m\u001b[1m]\u001b[0m Found \u001b[37m3315302400\u001b[0m nan values in the            \u001b[2mHTCLightning.py:145\u001b[0m\n",
      "predictions class \u001b[1m(\u001b[0mtensor.shape = \u001b[1;35mtorch.Size\u001b[0m\u001b[1m(\u001b[0m\u001b[1m[\u001b[0m\u001b[37m1\u001b[0m, \u001b[37m19\u001b[0m, \u001b[37m480\u001b[0m,    \u001b[2m                   \u001b[0m\n",
      "\u001b[37m640\u001b[0m\u001b[1m]\u001b[0m\u001b[1m)\u001b[0m\u001b[1m)\u001b[0m                                                       \u001b[2m                   \u001b[0m\n",
      "\u001b[2KDataloader \u001b[90m━━━━━━━━━━━━━━━━━━━━━━━━━━━━━━━━━━━━━━━━\u001b[0m \u001b[35m  0%\u001b[0m \u001b[36m-:--:--\u001b[0m \u001b[33m0:00:03\u001b[0m\u001b[1m[\u001b[0m\u001b[33mWARNING\u001b[0m\u001b[1m]\u001b[0m\u001b[1m[\u001b[0m\u001b[3mhtc\u001b[0m\u001b[1m]\u001b[0m Found \u001b[37m3315302400\u001b[0m nan values in the            \u001b[2mHTCLightning.py:145\u001b[0m\n",
      "predictions class \u001b[1m(\u001b[0mtensor.shape = \u001b[1;35mtorch.Size\u001b[0m\u001b[1m(\u001b[0m\u001b[1m[\u001b[0m\u001b[37m1\u001b[0m, \u001b[37m19\u001b[0m, \u001b[37m480\u001b[0m,    \u001b[2m                   \u001b[0m\n",
      "\u001b[37m640\u001b[0m\u001b[1m]\u001b[0m\u001b[1m)\u001b[0m\u001b[1m)\u001b[0m                                                       \u001b[2m                   \u001b[0m\n",
      "\u001b[2KDataloader \u001b[90m━━━━━━━━━━━━━━━━━━━━━━━━━━━━━━━━━━━━━━━━\u001b[0m \u001b[35m100%\u001b[0m \u001b[36m0:00:00\u001b[0m \u001b[33m0:00:03\u001b[0m\n",
      "\u001b[?25h"
     ]
    }
   ],
   "source": [
    "!env\n",
    "!htc inference --input-dir $data_dir/subjects/P086/2021_04_15_09_22_02 --output-dir $output_dir --model image --run-folder 2022-02-03_22-58-44_generated_default_model_comparison\n",
    "assert _exit_code == 0, \"Inference was not successful\"  # noqa: F821................................................................................................."
   ]
  },
  {
   "cell_type": "markdown",
   "id": "8a82bc5e-b48b-4aa5-9dbc-ac300e6724f4",
   "metadata": {},
   "source": [
    "This command searches for all HSI images in the given input directory, computes a prediction using the specified trained model (will also be downloaded if not available) and stores the result in the given output directory. You can use any of the pretrained models here.\n",
    "\n",
    "In this example case, there is only one output image:"
   ]
  },
  {
   "cell_type": "code",
   "execution_count": 5,
   "id": "059251ab-f15f-436b-bca5-deeac44a29ca",
   "metadata": {},
   "outputs": [
    {
     "data": {
      "text/plain": [
       "[PosixPath('/home/lucas/dkfz/htc/tests/test_28may/test_results28may/predictions/image'),\n",
       " PosixPath('/home/lucas/dkfz/htc/tests/test_28may/test_results28may/predictions/image/2022-02-03_22-58-44_generated_default_model_comparison'),\n",
       " PosixPath('/home/lucas/dkfz/htc/tests/test_28may/test_results28may/predictions/image/2022-02-03_22-58-44_generated_default_model_comparison/0202-00118#2021_04_15_09_22_02.blosc'),\n",
       " PosixPath('/home/lucas/dkfz/htc/tests/test_28may/test_results28may/predictions/image/2022-02-03_22-58-44_generated_default_model_comparison/0202-00118#2021_04_15_09_22_02.html'),\n",
       " PosixPath('/home/lucas/dkfz/htc/tests/test_28may/test_results28may/predictions/image/2022-02-03_22-58-44_generated_default_model_comparison/config.json')]"
      ]
     },
     "execution_count": 5,
     "metadata": {},
     "output_type": "execute_result"
    }
   ],
   "source": [
    "sorted(output_dir.rglob(\"*\"))"
   ]
  },
  {
   "cell_type": "markdown",
   "id": "14db9ec1-c7c9-493e-b4af-b3d77f90e22e",
   "metadata": {},
   "source": [
    "Per default, this includes the predicted labels (stored in the blosc file), a visualization of the prediction (HTML file) and the config which was used for computing the predictions (which again is based on the config of the trained model). You can open the HTML file directly with any browser. The labels can be read with the `decompress_file()` function:"
   ]
  },
  {
   "cell_type": "code",
   "execution_count": 6,
   "id": "be9a00b0-7bf0-4237-ae5d-2840ecc38cd4",
   "metadata": {},
   "outputs": [
    {
     "data": {
      "text/plain": [
       "array([[0, 0, 0, ..., 0, 0, 0],\n",
       "       [0, 0, 0, ..., 0, 0, 0],\n",
       "       [0, 0, 0, ..., 0, 0, 0],\n",
       "       ...,\n",
       "       [0, 0, 0, ..., 0, 0, 0],\n",
       "       [0, 0, 0, ..., 0, 0, 0],\n",
       "       [0, 0, 0, ..., 0, 0, 0]])"
      ]
     },
     "execution_count": 6,
     "metadata": {},
     "output_type": "execute_result"
    }
   ],
   "source": [
    "labels = decompress_file(sorted(output_dir.rglob(\"*.blosc\"))[0])\n",
    "labels"
   ]
  },
  {
   "cell_type": "markdown",
   "id": "a64b0c7e-89fe-403e-99d8-8d349ff24443",
   "metadata": {},
   "source": [
    "The config can, for example, be used to recover the original label names:"
   ]
  },
  {
   "cell_type": "code",
   "execution_count": 7,
   "id": "45244a8c-281f-4a29-b1ac-8f304877c581",
   "metadata": {},
   "outputs": [
    {
     "name": "stdout",
     "output_type": "stream",
     "text": [
      "background: 307200 pixels\n"
     ]
    }
   ],
   "source": [
    "config = Config(sorted(output_dir.rglob(\"config.json\"))[0])\n",
    "mapping = LabelMapping.from_config(config)\n",
    "\n",
    "for l, c in zip(*np.unique(labels, return_counts=True)):\n",
    "    print(f\"{mapping.index_to_name(l)}: {c} pixels\")"
   ]
  },
  {
   "cell_type": "markdown",
   "id": "24b30945-dadb-4cf6-9036-b9aee922ad3d",
   "metadata": {},
   "source": [
    "> Note: if you need the softmax values instead of the label indices of the prediction, add the `--predictions-type softmax` switch to `htc inference`. However, be aware that this requires much more disk space (around 17 MiB instead of 2 KiB per image)"
   ]
  }
 ],
 "metadata": {
  "kernelspec": {
   "display_name": "Python 3 (ipykernel)",
   "language": "python",
   "name": "python3"
  },
  "language_info": {
   "codemirror_mode": {
    "name": "ipython",
    "version": 3
   },
   "file_extension": ".py",
   "mimetype": "text/x-python",
   "name": "python",
   "nbconvert_exporter": "python",
   "pygments_lexer": "ipython3",
   "version": "3.11.9"
  }
 },
 "nbformat": 4,
 "nbformat_minor": 5
}
